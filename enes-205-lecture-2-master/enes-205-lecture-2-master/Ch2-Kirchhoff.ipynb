{
 "cells": [
  {
   "cell_type": "markdown",
   "metadata": {},
   "source": [
    "# Kirchhoff Analysis with Python, SymPy"
   ]
  },
  {
   "cell_type": "markdown",
   "metadata": {},
   "source": [
    "# Lecture 2.3 Exercise 1\n",
    "There are three exercises in [Lecture2.3Exercises](https://docs.google.com/document/d/1um_IHP0sm5E8bNT7grNfEdx0Dp5V2nAT7_OLX94qj9o/edit?usp=sharing) associated with Lecture 2\n",
    "\n",
    "![lecture2-3exercise](assets/Lecture2-3exercise1.png)\n",
    "\n",
    "Given the above circuit, find everything. \n",
    "\n",
    "Three sources of Unknowns: 13  \n",
    "4 terminal passive devices: $R_1, R_2, R_3, R_4$  \n",
    "4 voltages: $V_s, V_1, V_2, V_3, V_4$  \n",
    "3 currents: $i_s, i_1, i_2, i_3,$  \n",
    "    \n",
    "Three sources of Equations: 9 -1 =8 (through out bottom)  \n",
    "Terminal Equations: 4  \n",
    "$i_1*R_1 - V_1$  \n",
    "$i_2*R_2 - V_2$  \n",
    "$i_3*R_3 - V_3$  \n",
    "$i_3*R_4 - V_4$  \n",
    "\n",
    "Loop Equations:3  \n",
    "$V_s-V_1$  \n",
    "$V_1-V_2$  \n",
    "$V_2-V_3-V_4$  \n",
    "\n",
    "Mesh Equations:2   \n",
    "$i_s - i_1 - i_2 - i_3$ top  \n",
    "$i_1 + i_2 + i_3 - i_s$ bottom   \n",
    "  \n",
    "Constants: 5  \n",
    "$V_s = 12$  \n",
    "$R_1 = 4$  \n",
    "$R_2 = 3$  \n",
    "$R_3 = 2$  \n",
    "$r_4 = 2$  \n",
    "  \n",
    "Counting:\n",
    "Unknowns - equations - constants = 13 - 8 - 5 = 0\n",
    "This means should be able to get a numerical answer for each unknown\n"
   ]
  },
  {
   "cell_type": "code",
   "execution_count": 1,
   "metadata": {},
   "outputs": [
    {
     "name": "stdout",
     "output_type": "stream",
     "text": [
      "V1 = 12\n",
      "V2 = 12\n",
      "V3 = 6\n",
      "V4 = 6\n",
      "I1 = 3\n",
      "I2 = 4\n",
      "I4 = 3\n",
      "Is = 10\n"
     ]
    }
   ],
   "source": [
    "#python is loaded initially in all code cells .. see the Python 3 in the box to the upper right?\n",
    "import sympy # not importing all sympy functions, have to put sympy in front of them to use them\n",
    "from sympy import *\n",
    "init_printing() # this enables sympy pretty printing (sympy.pprint commands)\n",
    "Is, I1, V1, I2, V2, V3, I4, V4  = symbols('Is I1 V1 I2 V2 V3 I4 V4 ') #don't need R1,R2,R3,R4 here in symbols\n",
    "# they are IDed and given values below\n",
    "R1=4\n",
    "R2=3\n",
    "R3=2\n",
    "R4=2\n",
    "Vs=12\n",
    "answers = (solve([V1-R1*I1, V2-R2*I2, V3-R3*I4, V4-R4*I4,Vs-V1, V1-V2, V2-V3-V4,Is-I1-I2-I4 ], (V1,V2,V3,V4,I1,I2,I4,Is), implicit=True))\n",
    "for x in answers:\n",
    "    print(x,'=',answers[x])\n"
   ]
  },
  {
   "cell_type": "markdown",
   "metadata": {},
   "source": [
    "## Lecture 2.3 Exercise 2\n",
    "![lecture2-3exercise](assets/Lecture2-3exercise-2.png)\n",
    "\n",
    "Given the above circuit, find every thing.  \n",
    "\n",
    "#### Three Sources of Unknowns: 12  \n",
    "2 port passive devices: $R_1, R_2, R_3, R_4$  \n",
    "voltages: $V_1, V_2, V_3, V_4, V_s$  \n",
    "currents: $I_s, I_3, I_4$  \n",
    "    \n",
    "#### Three sources of equatios: 8-1=7  \n",
    "passive device equations: 4  \n",
    "$R_1\\cdot I_s - V_1$  \n",
    "$R_2\\cdot I_s - V_2$  \n",
    "$R_3\\cdot I_3 - V_3$  \n",
    "$R_4\\cdot I_4 - V_4$  \n",
    "meshes: 2  \n",
    "$V_s-V_1-V_2-V_3$  \n",
    "$V_3-V_4$  \n",
    "Nodes: 2  \n",
    "$I_s - I_3 - I_4$  \n",
    "$I_3 + I_4 - I_s$  \n",
    "\n",
    "#### Knowns: 5  \n",
    "R1 = 10000  \n",
    "R2 = 4000  \n",
    "R3 = 2000  \n",
    "R4 = 6000  \n",
    "I_s = 0.002  \n",
    "\n",
    "#### Counting Unknowns and Equations to determine values needed\n",
    " Unknowns - equations - constants = 12-7-5=0, should be able to find a number for every unknown"
   ]
  },
  {
   "cell_type": "code",
   "execution_count": 23,
   "metadata": {},
   "outputs": [
    {
     "name": "stdout",
     "output_type": "stream",
     "text": [
      "V1 = 200\n",
      "V2 = 80\n",
      "V3 = 30\n",
      "V4 = 30\n",
      "I3 = 3/200\n",
      "I4 = 1/200\n",
      "Vs = 310\n"
     ]
    }
   ],
   "source": [
    "from sympy import *\n",
    "Vs, V1, V2, V3, V4, I3, I4 = symbols('Vs, V1, V2, V3, V4, I3, I4')\n",
    "R1=10000\n",
    "R2=4000\n",
    "R3=2000\n",
    "R4=6000\n",
    "Is=2/S(100)\n",
    "answers = solve([V1-R1*Is, V2-R2*Is, V3-R3*I3, V4-R4*I4, Vs-V1-V2-V3, V3-V4,Is-I3-I4 ], (V1,V2,V3,V4,I3,I4,Vs))\n",
    "for x in answers:\n",
    "    print(x,'=',answers[x])"
   ]
  },
  {
   "cell_type": "markdown",
   "metadata": {},
   "source": [
    "# Lecture 2.3 Exercise 3\n",
    "![lecture2-3exercise](assets/Lecture2-3exercise3.png)\n",
    "Given the above circuit, find every thing.  \n",
    "\n",
    "#### Three Sources of Unknowns: 10 \n",
    "2 port passive devices: $R_1, R_2, R_3$  \n",
    "voltages: $V_1,V_2,V_3,V_s$  \n",
    "currents: $I_s, I_2, I_3$  \n",
    "    \n",
    "#### Three sources of equatios: 7-1=6  \n",
    "passive device equations: 3 \n",
    "$R_1\\cdot I_2 - V_1$  \n",
    "$R_2\\cdot I_2 - V_2$  \n",
    "$R_3\\cdot I_3 - V_3$  \n",
    "meshes: 2  \n",
    "$V_s-V_1-V_2$  \n",
    "$V_s-V_3$  \n",
    "Nodes: 2  \n",
    "$I_s - I_2 - I_3$  \n",
    "$I_3 + I_2 - I_s$  \n",
    "\n",
    "#### Knowns: 4  \n",
    "$R1 = 1$   \n",
    "$R2 = 3$   \n",
    "$R3 = 2$  \n",
    "$V_s = 8$  \n",
    "  \n",
    "#### Counting Unknowns and Equations to determine values needed\n",
    " Unknowns - equations - constants = 10-6-4 = 0, should be able to find a number for every unknown"
   ]
  },
  {
   "cell_type": "code",
   "execution_count": 24,
   "metadata": {},
   "outputs": [
    {
     "name": "stdout",
     "output_type": "stream",
     "text": [
      "V1 = 2\n",
      "V2 = 6\n",
      "V3 = 8\n",
      "Is = 6\n",
      "I2 = 2\n",
      "I3 = 4\n"
     ]
    }
   ],
   "source": [
    "Vs, Is, V1, V2, V3, I2, I3, R1, R2, R3 = symbols('Vs Is V1 V2 V3 I2 I3 R1 R2 R3')\n",
    "R1=1\n",
    "R2=3\n",
    "R3=2\n",
    "Vs=8\n",
    "answers = solve([V1-R1*I2, V2-R2*I2, V3-R3*I3, Vs-V1-V2, Vs-V3, Is-I2-I3 ], (V1,V2,V3,Is,I2,I3))\n",
    "for x in answers:\n",
    "    print(x,'=',answers[x])"
   ]
  },
  {
   "cell_type": "markdown",
   "metadata": {},
   "source": [
    "# Lecture 2.4 Exercise 1\n",
    "![lecture2-4exercise1](assets/Lecture2-4exercise1.png)\n",
    "\n",
    "Given the above circuit, find every thing.  This circuit has lots of supplies. Don't try to capture the direction of the current and voltage into the supply into an equation. There are no negative power assumptions associated with a terminal device in this drawing. \n",
    "\n",
    "#### Three Sources of Unknowns: 13    \n",
    "2 port passive devices: $R_1, R_4, R_6$    \n",
    "voltages: $V_1, V_2, V_3, V_4, V_5, V_6, V_7$  \n",
    "currents: $I_5, I_1, I_2$  \n",
    "    \n",
    "#### Three sources of equatios: 7-1=6  \n",
    "passive device equations: 3  \n",
    "$R_1\\cdot I_1 - V_1$  \n",
    "$R_6\\cdot I_5 - V_6$  \n",
    "$R_4\\cdot I_5 - V_4$  \n",
    "meshes: 2  \n",
    "$V_5-V_6-V_7-V_1-V3-V4$  \n",
    "$V_1+V3-V2$  \n",
    "Nodes: 2  \n",
    "$I_5 + I_2 - I_1$  \n",
    "$I_1 - I_5 - I_2$  \n",
    "\n",
    "#### Knowns: 7  \n",
    "V5 = 50  \n",
    "I5 = 5  \n",
    "R6 = 2  \n",
    "I1 = 10  \n",
    "V2 = 30  \n",
    "V3 = 10  \n",
    "R4 = 5  \n",
    "\n",
    "#### Counting Unknowns and Equations to determine values needed\n",
    " Unknowns - equations - constants = 13-6-7=0, should be able to find a number for every unknown"
   ]
  },
  {
   "cell_type": "code",
   "execution_count": 25,
   "metadata": {},
   "outputs": [
    {
     "name": "stdout",
     "output_type": "stream",
     "text": [
      "V6 = 10\n",
      "V7 = -15\n",
      "V1 = 20\n",
      "V4 = 25\n",
      "R1 = 2\n",
      "I2 = 5\n"
     ]
    }
   ],
   "source": [
    "V5, I5, V6, V7, V1, I1, V3, V2, I2, V4, R6, R1, R4 = symbols('V5 I5 V6 V7 V1 I1 V3 V2 I2 V4 R6 R1 R4')\n",
    "V5 = 50\n",
    "I5 = 5\n",
    "R6 = 2\n",
    "I1 = 10\n",
    "V2= 30\n",
    "V3 = 10\n",
    "R4 = 5\n",
    "answers = solve([V1-R1*I1, V6-R6*I5, V4-R4*I5, V5-V6-V7-V1-V3-V4, V2-V1-V3, I5-I1+I2  ], (V6,V7,V1,V4,R1,I2))\n",
    "for x in answers:\n",
    "    print(x,'=',answers[x])"
   ]
  },
  {
   "cell_type": "markdown",
   "metadata": {},
   "source": [
    "# Lecture 2.4 Exercise 2\n",
    "![lecture2-4exercise2](assets/Lecture2-4exercise2.png)\n",
    "This is a current source solution. Find everything.\n",
    "\n",
    "#### Three Sources of Unknowns: 6    \n",
    "2 port passive devices: $R_1, R_2$    \n",
    "voltages: $V$  \n",
    "currents: $I_1, I_2, I_3$  \n",
    "    \n",
    "#### Three sources of equatios: 4-1=3 \n",
    "passive device equations: 3  \n",
    "$R_2\\cdot I_2 - V$  \n",
    "$R_3\\cdot I_3 - V$  \n",
    "meshes: 0 \n",
    "they are all trivial\n",
    "Nodes: 2  \n",
    "$I_1 - I_2 - I_3$  \n",
    "$I_3 + I_2 - I_1$  \n",
    "\n",
    "#### Knowns:3  \n",
    "$I_1 = 5/1000$  \n",
    "$R_2 = 3000$  \n",
    "$R_3 = 5000$  \n",
    "\n",
    "#### Counting Unknowns and Equations to determine values needed\n",
    " Unknowns - equations - constants = 6-3-3=0, should be able to find a number for every unknown"
   ]
  },
  {
   "cell_type": "code",
   "execution_count": 27,
   "metadata": {},
   "outputs": [
    {
     "name": "stdout",
     "output_type": "stream",
     "text": [
      "V = 75/8\n",
      "I2 = 1/320\n",
      "I3 = 3/1600\n"
     ]
    }
   ],
   "source": [
    "V, I2, I3 = symbols('V, I2, I3')\n",
    "I1 = 5/S(1000)\n",
    "R2 = 3000\n",
    "R3 = 5000\n",
    "answer = solve([V-R2*I2, V-R3*I3, I1-I2-I3 ], (V,I2,I3))\n",
    "for x in answer:\n",
    "    print(x,'=',answer[x])"
   ]
  },
  {
   "cell_type": "markdown",
   "metadata": {},
   "source": [
    "# Circuit with values and unkown supply\n",
    "![parallel](assets/parallel.png)  \n",
    "Given: $V_s$ is unknown. Find all currents and voltages in terms of this unknown.\n",
    "\n",
    "#### Three sources of Unknowns: 11  \n",
    "2 terminal passive devices: $R_1, R_2, R_3$ 3 of them  \n",
    "voltages: $V_s, V_1, V_2, V_3$ 4 of them  \n",
    "currents: $I_s, I_1, I_2, I_3$ 4 of them  \n",
    "  \n",
    "  \n",
    "#### Three sources of Equations:  8-1=7  \n",
    "Throw out 1 node equation .. so that remaining equations still mention all currents  \n",
    "passive devices: 3 Resistor terminal (ohm's law) equations    \n",
    "$V_1-R_1*I_1$  \n",
    "$V_2-R_2*I_2$  \n",
    "$V_3-R_3*I_3$   \n",
    "meshes: 3 equations    \n",
    "$V_s-V_1$  \n",
    "$V_1-V_2$   \n",
    "$V_2-V_3$   \n",
    "nodes: 2 equations   \n",
    "$I_s-I_1-I_2-I_3$  \n",
    "$I_1+I_2+I_3$   \n",
    "\n",
    "#### Knowns: 3\n",
    "$R_1=1000$  \n",
    "$R_2=500$  \n",
    "$R_3=330$   \n",
    "\n",
    "#### Counting Unknowns and Equations to determine values needed\n",
    "\n",
    "11 unknowns - 7 equations - 3 knowns = 1 unknown that needs to be part of the equation for every other unknown. Choose $V_s$ as described in the problem statement.\n",
    "\n",
    "#### Solving the equations with NumPy and SymPy  \n",
    "  \n",
    "Going to solve with open source software integrated together by Python. Will solve symbolically with SymPy. If working with more values with decimal places or plotting, will use Numpy. \n",
    "  \n",
    "[Wolfram Mathematica](https://www.wolfram.com/mathematica/) would evaluate symbolically and then numerically with a notebook user interface similar to this. The two are very integrated. Wolfram Alpha is a tease.   \n",
    "  \n",
    "[Mathworks MatLab](https://www.mathworks.com/) is moving to [MuPad Live](https://www.mathworks.com/help/symbolic/mupad.html) to evaluate symbolically and has a different the traditional interface for numeric computations with limited symbolic manipulation. Need to purchase in addition the symbolic toolbox to get everything working. Integration of the two is something else to learn."
   ]
  },
  {
   "cell_type": "code",
   "execution_count": 26,
   "metadata": {},
   "outputs": [
    {
     "name": "stdout",
     "output_type": "stream",
     "text": [
      "V1 = Vs\n",
      "V2 = Vs\n",
      "V3 = Vs\n",
      "I1 = Vs/1000\n",
      "I2 = Vs/500\n",
      "I3 = Vs/330\n",
      "Is = 199*Vs/33000\n"
     ]
    }
   ],
   "source": [
    "from sympy import *\n",
    "init_printing() \n",
    "#8 symbols describing the unknowns and the unknown to remain in the equation (Vs)\n",
    "V1, V2, V3, Vs, I1, I2, I3, Is = symbols('V1 V2 V3 Vs I1 I2 I3 Is')\n",
    "#known values, given values\n",
    "R1=1000\n",
    "R2=500\n",
    "R3=330\n",
    "answers = solve([V1-R1*I1, V2-R2*I2,V3-R3*I3,Vs-V1, V1-V2, V2-V3,Is-I1-I2-I3], (V1,V2,V3,I1,I2,I3,Is))\n",
    "for x in answers:\n",
    "    print(x,'=',answers[x])"
   ]
  },
  {
   "cell_type": "markdown",
   "metadata": {},
   "source": [
    "# Analyze a circuit without numbers for anything\n",
    "This problem is to be done with just symbols.   \n",
    "\n",
    "![solvingUnknownsInTermsOfSymbols](assets/solvingUnknownsInTermsOfSymbols.png)  \n",
    " \n",
    "Unknowns: 11  \n",
    "Passive Devices: $R_1, R_2, R_3$  \n",
    "Voltages: $V_1,V_2,V_3,V_{s_1}, V_{s_2}$  \n",
    "Currents: $I_1,I_2,I_3$  \n",
    "\n",
    "Equations: 6  \n",
    "Terminal: 3  \n",
    "$V_1-R_1\\cdot I_1$  \n",
    "$V_2-R_2\\cdot I_2$  \n",
    "$V_3-R_3\\cdot I_3$  \n",
    "\n",
    "Mesh:2   \n",
    "$V_{s_1}-V_1-V_2$  \n",
    "$V_3 - V_{s_2} - V_2$  \n",
    "  \n",
    "Node:1  \n",
    "$I_1 -I_2-I_3$  \n",
    "$I_2 + I_3 - I_1$\n",
    "\n",
    "Knowns: 0\n",
    "\n",
    " Unknowns - equations - constants =  11-6 = 5 unknowns needed to find the rest\n",
    "\n",
    "Can find 6 symbols as functions of the other 5\n"
   ]
  },
  {
   "cell_type": "code",
   "execution_count": 71,
   "metadata": {},
   "outputs": [
    {
     "name": "stdout",
     "output_type": "stream",
     "text": [
      "Vs1 = R1*i1 + R2*i2\n",
      "Vs2 = -R2*i2 + R3*(i1 - i2)\n",
      "V1 = R1*i1\n",
      "V2 = R2*i2\n",
      "V3 = R3*(i1 - i2)\n",
      "i3 = i1 - i2\n"
     ]
    }
   ],
   "source": [
    "#unknowns finding in terms of all other unknowns: Vs1, Vs2\n",
    "V1, V2, V3, Vs1, Vs2, R1, R2, R3, i1, i2, i3 = symbols('V1 V2 V3 Vs1 Vs2 R1 R2 R3 i1 i2 i3')\n",
    "answers = (solve([i1-i2-i3,V1-R1*i1,V2-R2*i2,V3-R3*i3,Vs1-V1-V2,V3-Vs2-V2], (Vs1,Vs2,V1,V2,V3,i3), implicit=True))\n",
    "for x in answers:\n",
    "    print(x,'=',answers[x])"
   ]
  },
  {
   "cell_type": "markdown",
   "metadata": {},
   "source": [
    "This math is behind KiCad simulation. The goal in going through the math here is to build intuition about ideal inductors and capacitors, then compare to the physical reality. \n",
    "  "
   ]
  },
  {
   "cell_type": "markdown",
   "metadata": {
    "collapsed": true
   },
   "source": [
    "## Four Resistor Problem  where everything is a function of time\n",
    "Find V_s and V_x in terms of the other components.  \n",
    "\n",
    "Because it is a resistive problem, don't worry about the time.  \n",
    "Assume $V_s = V_s(t), V_x=V_x(t)$ and the same with the currents.  \n",
    "Assume the polarity of voltage matches the direction of the currents.   \n",
    "\n",
    "![fourResistors](assets/fourResistors.png)  \n",
    "\n",
    "Unknowns: 16  \n",
    "Passive: $R_1,R_2,R_3,R_4$  \n",
    "Voltages: $V_s, V_1, V_2, V_3, V_4, V_x$  \n",
    "Currents: $i_x, i_1, i_2, i_3, i_4, i_s$  \n",
    "\n",
    "Equations: 11-1=10  \n",
    "Terminal Equations:4  \n",
    "$V_1-R_1*i_1$  \n",
    "$V_2-R_2*i_2$  \n",
    "$V_3-R_3*i_3$  \n",
    "$V_4-R_4*i_4$  \n",
    "\n",
    "Mesh Equations: 3  \n",
    "$V_s-V_1$  (trival)  \n",
    "$V_1-V_2-V_3$  \n",
    "$V_x-V_4-V_3$  \n",
    "  \n",
    "Node Equations:4  \n",
    "$i_x-i_1-i_2$  \n",
    "$i_2+i_4-i_3$  \n",
    "$i_1 -i_x +i_3 -i_s$   \n",
    "$i_4-i_s$ (trival)   thrown out, throu\n",
    " \n",
    "  \n",
    "16 Unknowns, 10 equations = 6 unknowns  \n",
    "10 symbols can be found in terms of 6 unknowns  \n"
   ]
  },
  {
   "cell_type": "code",
   "execution_count": 3,
   "metadata": {},
   "outputs": [
    {
     "data": {
      "image/png": "[encoded data removed]",
      "text/latex": [
       "$\\displaystyle \\left[ \\left( R_{2} i_{3} - R_{2} i_{4} + R_{3} i_{3}, \\  R_{2} i_{3} - R_{2} i_{4} + R_{3} i_{3}, \\  R_{2} \\left(i_{3} - i_{4}\\right), \\  R_{3} i_{3}, \\  R_{4} i_{4}, \\  R_{3} i_{3} + R_{4} i_{4}, \\  ix, \\  - i_{3} + i_{4} + ix, \\  i_{3} - i_{4}, \\  \\frac{R_{2} i_{3} - R_{2} i_{4} + R_{3} i_{3}}{- i_{3} + i_{4} + ix}\\right)\\right]$"
      ],
      "text/plain": [
       "⎡⎛                                                                            \n",
       "⎢⎜R₂⋅i₃ - R₂⋅i₄ + R₃⋅i₃, R₂⋅i₃ - R₂⋅i₄ + R₃⋅i₃, R₂⋅(i₃ - i₄), R₃⋅i₃, R₄⋅i₄, R₃\n",
       "⎣⎝                                                                            \n",
       "\n",
       "                                         R₂⋅i₃ - R₂⋅i₄ + R₃⋅i₃⎞⎤\n",
       "⋅i₃ + R₄⋅i₄, ix, -i₃ + i₄ + ix, i₃ - i₄, ─────────────────────⎟⎥\n",
       "                                             -i₃ + i₄ + ix    ⎠⎦"
      ]
     },
     "execution_count": 3,
     "metadata": {},
     "output_type": "execute_result"
    }
   ],
   "source": [
    "#unknowns finding in terms of all other unknowns: Vs, Vx\n",
    "ix, i1, i2, i3, i4, iss, Vx, Vs, R1, R2, R3, R4, V1, V2, V3, V4 = symbols('ix i1 i2 i3 i4 iss Vx Vs R1 R2 R3 R4 V1 V2 V3 V4')\n",
    "answers = solve([V1-R1*i1, V2-R2*i2, V3-R3*i3, V4-R4*i4, Vs-V1, V1-V2-V3, Vx-V4-V3, ix-i1-i2, i2+i4-i3, i1-ix+i3-i4 ],(Vs,V1,V2,V3,V4,Vx,ix,i1,i2,R1))\n",
    "answers\n",
    "#for x in answers:\n",
    " #  print(x,'=',answers[x])\n",
    "# ix should not be here in the answers below when cell runs, it signifies that python has an issue w/ this\n",
    "# should look at the above codes/eqs/etc"
   ]
  },
  {
   "cell_type": "markdown",
   "metadata": {},
   "source": [
    "The 6 unknowns that all others symbols are expressed in are the R2,R3,R4 and i3, i4, ix\n",
    "\n",
    "#### You will not know your answer is possibly correct until you can find a set of knowns that are all expressed in terms of the unknowns, not themselves. \n",
    "\n",
    "Adding to many items to the list of knowns to find above breaks the loop because sympy drops telling you the full equation and expects you to match the variable list order to the answer order. \n",
    "  \n",
    "\n",
    "# Circuit that is Purely Resistive or Snapshot in Time  \n",
    "At any given moment, an inductor or capacitor can be thought of as having a resistance (that changes in the next instant). But in that instance it's resistance can be computed. So all the R,C and L in this diagram are drawn as a box .. without their normal circuit symbol. The more general term for a black box that could be R, C or L is reactance. The symbol for reactance is Z. This leads us to Chapter 2, where all the algebra below shifts into the complex domain.\n",
    "\n",
    "![constantVoltageCurrent](assets/constantVoltageCurrent.png)\n",
    "\n",
    "Here the currents and voltages are known, but the resistances/reactances are not. Go with the polarities drawn. These polarities are a hypothesis. If the reality is negative, then unkown current or voltage will be negative. The reactance value has to be positive or something is wrong.\n",
    "\n",
    "The only probem above is that $V_4$ is a block box that looks like it is pumping energy into the circuit because current is entering the negative terminal of $Z_4$. This captured in the terminal equation. This is not done for power supplies. Ideal power supplies have no requirement of a positive reactance. \n",
    "\n",
    "Unknowns:23  \n",
    "passive devices $Z_1, Z_2, Z_3, Z_4, Z_5, Z_6, Z_7$ 7devices  \n",
    "voltages: $V_{s_1}, V_{s_2}, V_1, V_2, V_3, V_4, V_5, V_6, V_7$ 9voltages  \n",
    "currents: $I_1, I_2, I_4, I_6, I_a, I_b, I_c$ 7 currents  \n",
    "  \n",
    "Equations:15-1 = 14  \n",
    "terminal: ohms law 7 equations  \n",
    "$I_1\\cdot Z_1 - V_1$     \n",
    "$I_a\\cdot Z_5 - V_5$  \n",
    "$I_b\\cdot Z_3 - V_3$  \n",
    "$I_6\\cdot Z_6 - V_6$  \n",
    "$I_4\\cdot Z_4 + V_4$  \n",
    "$I_4\\cdot Z_7 - V_7$  \n",
    "$I_2\\cdot Z_2 - V_2$  \n",
    "\n",
    "mesh voltage: 4 equations  \n",
    "$V_{s_1} - V_1 - V_5$  \n",
    "$V_5 - V_3 - V_2$  \n",
    "$V_3 -V_6 + V_{s_2}$  \n",
    "$V_4 -V_7 + V_6$  \n",
    "\n",
    "node equations: 4 A,B,C,D  \n",
    "$I_1 -I_a -I_b -I_6 -I_4$   \n",
    "$I_a + I_2 - I_1$   \n",
    "$I_b - I_2 -I_c$   \n",
    "$I_6 + I_4 + I_c$   can throw away the bottom node equation; $I_6, I_4, I_c$ are all accounted for above\n",
    "\n",
    "Constants: 9  \n",
    "$I_1=4.75$  \n",
    "$I_6=2$  \n",
    "$I_4=2$  \n",
    "$I_2=3.5$  \n",
    "$V_{s_1} = 12$  \n",
    "$V_5 = 2.5$  \n",
    "$V_6 = 4$  \n",
    "$V_7 = 2$  \n",
    "$V_{s_2} = 5$  \n",
    "  \n",
    "Counting:  \n",
    "23 unknowns - 14 equations - 9 constants = 0 \n",
    "Should be able to find all unnowns\n",
    "  "
   ]
  },
  {
   "cell_type": "code",
   "execution_count": 65,
   "metadata": {},
   "outputs": [
    {
     "data": {
      "image/png": "[encoded data removed]",
      "text/latex": [
       "$\\displaystyle \\left( 2.0, \\  1.0, \\  2.0, \\  1.0, \\  2.0, \\  2.0, \\  1.0, \\  9.5, \\  3.5, \\  -1.0, \\  -2.0, \\  -4.0, \\  -0.5, \\  1.25\\right)$"
      ],
      "text/plain": [
       "(2.0, 1.0, 2.0, 1.0, 2.0, 2.0, 1.0, 9.5, 3.5, -1.0, -2.0, -4.0, -0.5, 1.25)"
      ]
     },
     "execution_count": 65,
     "metadata": {},
     "output_type": "execute_result"
    }
   ],
   "source": [
    "i1=4.75\n",
    "i6=2 \n",
    "i4=2\n",
    "i2=3.5\n",
    "vs1=12\n",
    "v5=2.5\n",
    "v6=4\n",
    "v7=2\n",
    "vs2=5\n",
    "z1,z2,z3,z4,z5,z6,z7,v1,v2,v3,v4,ia,ib,ic = symbols('z1,z2,z3,z4,z5,z6,z7,v1,v2,v3,v4,ia,ib,ic')\n",
    "#solve([i1*z1-v1,ia*z5-v5,ib*z3-v3,i6*z6-v6,i4*z4-v4,i4*z7-v7,i2*z2-v2,vs1-v1-v5,v5-v3-v2,v3-v6+vs2,-v4-v7+v6,i1-ia-ib-i6-i4,ia+i2-i1,ib-i2-ic],(z1,z2,z3,z4,z5,z6,z7,v1,v2,v3,v4,ic,ib,ia,i1))\n",
    "answers = solve([i1*z1-v1,ia*z5-v5,ib*z3-v3,i6*z6-v6,i4*z4+v4,i4*z7-v7,i2*z2-v2,vs1-v1-v5,v5-v3-v2,v3-v6+vs2,v4-v7+v6,i1-ia-ib-i6-i4,ia+i2-i1,ib-i2-ic],(z1,z2,z3,z4,z5,z6,z7,v1,v2,v3,v4,ic,ib,ia),implicit=True)\n",
    "answers[0]\n"
   ]
  },
  {
   "cell_type": "markdown",
   "metadata": {},
   "source": [
    "# Troubleshooting\n",
    "\n",
    "replace $\\cdot$ with *  \n",
    "retype minus sign  \n",
    "minus and multiply turn purple in python when correct  \n",
    "\n",
    "#### Error message: \n",
    "\n",
    "Look at it. Cut the solve statement down. Put one equation in [] and one variable in () that is in the equation.\n",
    "Build slowly by hand.\n",
    "\n",
    "#### Get answers, but still have other symbols in them:\n",
    "\n",
    "The symbol will give you a clue .. typically there is a problem with not recording all the knowns, unknowns, equations and counting properly. If the equation balances out to 0, then all numbers can be found. If the equations are dependent, then may get answers with symbols in them. This means you made a mistake, didn't through out a node equation, reused a segment on a mesh, did't write note equation. Check everything. It always works. \n",
    "\n",
    "#### red \n",
    "\"is\" is reserved word in Python. Python indicates this by making it red in the list separated by commas where all other variable names are in black. \n",
    "    \n",
    "#### Symptom: Get answer of $\\emptyset$ or [].\n",
    "\n",
    "Meaning:\n",
    "empty set or unknown\n",
    "\n",
    "Cause:  \n",
    "The equations aren't correct.  \n",
    "  \n",
    "One equation can be derived from all the others algebratically. It is not independent of them.\n",
    " Remember symbols-equations=unknowns .. count and check.\n",
    "   \n",
    "The unkowns are not in the list of symbols.  \n",
    "  \n",
    "Did not toss out a node equation.  \n",
    "\n",
    "#### You will not know your answer is correct until you can find a full set of unknowns that are all expressed in terms of the knowns."
   ]
  },
  {
   "cell_type": "code",
   "execution_count": null,
   "metadata": {},
   "outputs": [],
   "source": []
  }
 ],
 "metadata": {
  "kernelspec": {
   "display_name": "Python 3",
   "language": "python",
   "name": "python3"
  },
  "language_info": {
   "codemirror_mode": {
    "name": "ipython",
    "version": 3
   },
   "file_extension": ".py",
   "mimetype": "text/x-python",
   "name": "python",
   "nbconvert_exporter": "python",
   "pygments_lexer": "ipython3",
   "version": "3.7.4"
  }
 },
 "nbformat": 4,
 "nbformat_minor": 2
}
