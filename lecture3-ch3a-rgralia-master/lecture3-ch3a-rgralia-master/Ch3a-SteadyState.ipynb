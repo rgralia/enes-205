{
 "cells": [
  {
   "cell_type": "markdown",
   "metadata": {},
   "source": [
    "##### Steady State or Homogeneous Phasor Solutions\n",
    "The purpose of this first example is to untangle the equations associated with circuits you may have learned.\n",
    "\n",
    "All equations start in the time domain, then leave the time domain and just refer to the repeating patterns (amplitude and phase) in the complex domain. Ater math is done in the complex domain, conversion back to the time domain has to occur. \n",
    "\n",
    "This first example just deals with magnitude, not phase.\n",
    "\n",
    "# Example 3-1a\n",
    "Let's assume that we have a sinusodial voltage source with a fixed amplidue of $V_1 = 5V$ and a fixed frequency of $f = 1MHz.$\n",
    "\n",
    "What would the maximum current be through an $R_1 = 5 \\Omega$ resistor?\n",
    "\n",
    "![example3-1](assets/Example3-1a.png)  \n",
    "\n",
    "$V_{R1}(t) = 5 cos(2 \\pi 10^{6} t)$  \n",
    "have to change $V_{R1}$ to a phasor:  \n",
    "$\\stackrel{\\text{^}}V_{R1} = 5$  \n",
    "\n",
    "have to change $R_1$ to an impedance:  \n",
    "$Z = 5$  \n",
    "  \n",
    "have to translate the terminal equation $i(t)*R = V(t)$ into the complex domain:  \n",
    "$\\stackrel{\\text{^}}I * Z = \\stackrel{\\text{^}}V_{R1}$  \n",
    "solve for $\\stackrel{\\text{^}}I$  \n",
    "\n",
    "$\\stackrel{\\text{^}}I = \\frac{\\stackrel{\\text{^}}V_{R1}}{Z} = 5/5 = 1 amp$\n",
    "\n",
    "Changing back into the time domain:  \n",
    "$i(t) = cos(2 \\pi 10^{6} t)$\\ amps"
   ]
  },
  {
   "cell_type": "markdown",
   "metadata": {},
   "source": [
    "# Example 3-1b\n",
    "Let's assume that we have a sinusodial voltage source with a fixed amplidue of $V_1 = 5V$ and a fixed frequency of $f = 1MHz.$\n",
    "\n",
    "What would the maximum current be through an $L_1 = 5\\mu H$ inductor?\n",
    "\n",
    "![example3-1](assets/Example3-1b.png)  \n",
    "\n",
    "$V_{L1}(t) = 5 cos(2 \\pi 10^{6} t)$  \n",
    "have to change $V_{L1}$ to a phasor:  \n",
    "$\\stackrel{\\text{^}}V_{L1} = 5$  \n",
    "\n",
    "have to change $L_1$ to an impedance:   \n",
    "$Z = j2\\pi \\omega * L_1$  \n",
    "$Z = j2 \\pi 10^{6} * 5\\ 10^{-6} = j10\\pi$    \n",
    "  \n",
    "have to translate the terminal equation $L\\frac{d}{dt}i(t) = V(t)$ to the complex domain:  \n",
    "$\\stackrel{\\text{^}}I * Z = \\stackrel{\\text{^}}V_{L1}$  \n",
    "solve for $\\stackrel{\\text{^}}I$  \n",
    "\n",
    "$\\stackrel{\\text{^}}I = \\frac{\\stackrel{\\text{^}}V_{L1}}{Z} = \\frac{5}{10j\\pi} = \\frac{1}{2j\\pi}\\ amp = -j0.159\\ amp$\n",
    "\n",
    "Have to convert to the time domain: (see table below)  \n",
    "$i(t) = 0.159sin(2\\pi10^6t)\\  amps$"
   ]
  },
  {
   "cell_type": "markdown",
   "metadata": {},
   "source": [
    "# Example 3-1c\n",
    "Let's assume that we have a sinusodial voltage source with a fixed amplidue of $V_1 = 5V$ and a fixed frequency of $f = 1MHz.$\n",
    "\n",
    "What would the maximum current be through an $C_1 = 5\\mu F$ capacitor?\n",
    "\n",
    "![example3-1](assets/Example3-1c.png)  \n",
    "\n",
    "$V_{C1}(t) = 5 cos(2 \\pi 10^{6} t)$  \n",
    "have to change $V_{L1}$ to a phasor:  \n",
    "$\\stackrel{\\text{^}}V_{C1} = 5$  \n",
    "\n",
    "have to change $C_1$ to an impedance:   \n",
    "$Z = \\frac{1}{j2\\pi f C}$  \n",
    "$Z = \\frac{}{j2 \\pi 10^{6} * 5\\ 10^{-6}} = \\frac{1}{j10\\pi}$    \n",
    "  \n",
    "have to translate the terminal equation $C\\frac{d}{dt}V(t) = i(t)$ to the complex domain:  \n",
    "$\\stackrel{\\text{^}}I * Z = \\stackrel{\\text{^}}V_{C1}$  \n",
    "solve for $\\stackrel{\\text{^}}I$  \n",
    "\n",
    "$\\stackrel{\\text{^}}I = \\frac{\\stackrel{\\text{^}}V_{C1}}{Z} = 5\\ 10j\\pi = j50\\pi\\ amp = j157\\ amp$\n",
    "\n",
    "Have to convert to the time domain: (see table below)  \n",
    "$i(t) = -157sin(2\\pi10^6t)\\ amps$"
   ]
  },
  {
   "cell_type": "markdown",
   "metadata": {},
   "source": [
    "## What is new in Chapter 3\n",
    "\n",
    "For circuits, Laplace is most popular, (will spend most time on this technique in DifEq class).  \n",
    "We are not doing Laplace.  \n",
    "We are doing phasors, impedances and [convolution integral](https://en.wikipedia.org/wiki/Convolution#Applications).   \n",
    "    \n",
    "We are not messing around. We are going to do it in Ch3a. We are going to do it now. \n",
    "\n",
    "DifEq is going to show you the Z transform, then the Fourier transform, and many others I can't name any more before ending with LaPlace.  \n",
    "  \n",
    "Here it goes.     \n",
    "   \n",
    "Phasors are voltages and currents ... inputs and outputs ... representatives of two types of energy that live in relationship to each other within a circuit.   The real world (resistors) force them to be $90^o$ apart ... what we call binary. They are not merely opposites which would be $180^o$ apart. The powers supply(s) tries to keep everybody working together. \n",
    "\n",
    "\n",
    "The [complex plane](https://en.wikipedia.org/wiki/Complex_plane) is where the math is done. Later we will switch to the [s-plane](https://en.wikipedia.org/wiki/S-plane) after trying to compute discharge/charge time constants. \n",
    "\n",
    "**Difference**: Put hat on top of all current and voltages, this turns them into [phasors](https://en.wikipedia.org/wiki/Phasor)  \n",
    "\n",
    "Symbols: 8   \n",
    "Passive devices: $R, L, C$  \n",
    "Voltages: $\\stackrel{\\text{^}}V_s, \\stackrel{\\text{^}}V_R, \\stackrel{\\text{^}}V_L, \\stackrel{\\text{^}}V_C$  \n",
    "Currents: $\\stackrel{\\text{^}}I$  \n",
    "frequency: $f$  \n",
    "angular velocity: $\\omega$  \n",
    "\n",
    "Differential, Steady State, Homogenous Equations:4  \n",
    "Terminal Device: 3  \n",
    "$R\\cdot I - V$ or $R\\cdot \\stackrel{\\text{^}}I - \\stackrel{\\text{^}}V_R$  \n",
    "$L\\frac{d}{dt}I - V$  or **scott thinking** $I\\frac{d}{dt}L - V$ **normal thinking** or $\\stackrel{\\text{^}}I\\omega j L - \\stackrel{\\text{^}}V_L$  \n",
    "$C\\frac{d}{dt}V = I$  or **scott thinking** $V\\frac{d}{dt}C = I$ **normal thinking** or  $\\stackrel{\\text{^}}V_C\\omega j C - \\stackrel{\\text{^}}I$\n",
    "\n",
    "Steady State, Homogeneous  Mesh Equation **in Complex Plane** : 1    \n",
    "$\\stackrel{\\text{^}}{V_s} - \\stackrel{\\text{^}}{V_R} - \\stackrel{\\text{^}}{V_C} - \\stackrel{\\text{^}}{V_L}$\n",
    "\n",
    "Node: 0  \n",
    "\n",
    "Constants Remain the Same:  \n",
    "$f = 10^6 \\frac{cycles}{sec}$ or Hz    \n",
    "$\\omega = 2\\pi f \\frac{radians}{sec}$ or angular velocity    \n",
    "**$\\stackrel{\\text{^}}V = 5$**  \n",
    "R = 5 $\\Omega$     \n",
    "L = 5 $\\mu$H = $5*10^{-6}$    \n",
    "C = 0.5 nF = $5*10^{-9}$     \n",
    "\n",
    "At this point have turned the problem back into algebra and can solve as have been doing with SymPy. As you will see below, one equation is easy to solve. So let's look at the DifEq class solution.\n",
    "\n",
    "**STOP Warning DifEq class stuff**  \n",
    "But if we were to substitute the terminal, complex plane equations into the Mesh equation, we would have the starting point of the DifEq class: a differential equation: \n",
    "\n",
    "$0 = \\stackrel{\\text{^}}{V_s} - R\\stackrel{\\text{^}}{I} - \\omega jL\\stackrel{\\text{^}}{I} - \\frac{1}{\\omega jC}\\stackrel{\\text{^}}{I} \\displaystyle$ \n",
    "\n",
    "**Scott is complaining**\n",
    "What if the circuit is more complicated? This is just using the serial concept. What if there are multiple mesh and node differential equations? This is not scalable. \n",
    "**End of complaning**\n",
    "\n",
    "Solve for $\\displaystyle \\stackrel{\\text{^}}{I} \\displaystyle$  \n",
    "$\\displaystyle \\stackrel{\\text{^}}{I} \\displaystyle = \\frac{\\stackrel{\\text{^}}{V}}{R + \\omega jL + \\frac{1}{\\omega jC}} = \\frac{5}{5+2\\pi j10^65*10^{-6} + \\frac{1}{2\\pi j10^65*10^{-9}}}$  \n",
    "$= \\frac{5}{5+10\\pi j - \\frac{j}{\\pi 10^{-2}}} = \\frac{5}{5 + 31.42j - 31.83j} \\approx 1$  \n",
    "  \n",
    "Move $\\displaystyle \\stackrel{\\text{^}}{I} \\displaystyle$ back into the time domain:  \n",
    "  \n",
    "$i(t) = cos(\\omega t)$  \n",
    "  \n",
    "This is the current through the resistor meaning that the power supply sees just the resistor. Meaning that the capacitor and inductor voltages cancel each other out.   Now the capcitor and inductor cloud be playing hot potato with millions of volts and millions of amps, but this total current doesn't refect that .. because the capacitor and inductor are doing it between themselves. \n",
    "  \n",
    "**END of DifEq class stuff** \n",
    "\n",
    "The net, sinusoidal voltage across the capacitor and inductor combination is zero from the resitor and power supplies point of view.   \n",
    "  \n",
    "However, they will each have a peak voltage and peak current that can be much larger (or smaller) than the supply. In the ideal, the voltages and currents can be $\\infty$. So before we get to Ch7, where we will see this, we have to contrast the ideal and real worlds. \n",
    "\n",
    "We are starting off in the ideal. "
   ]
  },
  {
   "cell_type": "markdown",
   "metadata": {},
   "source": [
    "# 3.4 Phasors Example 2\n",
    "\n",
    "Find the Voltage  $v(t)=50cos(50t+\\frac{\\pi}{6})$ volts in Phasor form 1 and Phasor form 2  \n",
    "Form 1 is $\\displaystyle \\stackrel{\\text{^}}{G} \\displaystyle = G_me^{j\\phi}$  \n",
    "Form 2 is $\\displaystyle \\stackrel{\\text{^}}{G} \\displaystyle = G_m(cos\\phi + j sin\\phi)$    \n",
    "  \n",
    "Here $G_m=50$, $\\phi$=$\\frac{\\pi}{6}$ So the first form is $50 e^{i\\frac{\\pi}{6}}$ This is also called polar form. \n",
    "The polar form computation is being done below by sympy:"
   ]
  },
  {
   "cell_type": "code",
   "execution_count": 41,
   "metadata": {},
   "outputs": [
    {
     "data": {
      "image/png": "[encoded data removed]",
      "text/latex": [
       "$\\displaystyle 50 e^{\\frac{i \\pi}{6}}$"
      ],
      "text/plain": [
       "    ⅈ⋅π\n",
       "    ───\n",
       "     6 \n",
       "50⋅ℯ   "
      ]
     },
     "execution_count": 41,
     "metadata": {},
     "output_type": "execute_result"
    }
   ],
   "source": [
    "#using sympy\n",
    "from sympy import *\n",
    "init_printing()\n",
    "G=50\n",
    "theta = pi/6\n",
    "HP = G* exp(I*theta)\n",
    "HP "
   ]
  },
  {
   "cell_type": "code",
   "execution_count": 13,
   "metadata": {},
   "outputs": [
    {
     "data": {
      "image/png": "[encoded data removed]",
      "text/latex": [
       "$\\displaystyle \\left( 25 \\sqrt{3}, \\  25\\right)$"
      ],
      "text/plain": [
       "(25⋅√3, 25)"
      ]
     },
     "execution_count": 13,
     "metadata": {},
     "output_type": "execute_result"
    }
   ],
   "source": [
    "HP.as_real_imag() "
   ]
  },
  {
   "cell_type": "code",
   "execution_count": 14,
   "metadata": {},
   "outputs": [
    {
     "data": {
      "image/png": "[encoded data removed]",
      "text/latex": [
       "$\\displaystyle 43.3012701892219 + 25.0 i$"
      ],
      "text/plain": [
       "43.3012701892219 + 25.0⋅ⅈ"
      ]
     },
     "execution_count": 14,
     "metadata": {},
     "output_type": "execute_result"
    }
   ],
   "source": [
    "N(HP)"
   ]
  },
  {
   "cell_type": "markdown",
   "metadata": {},
   "source": [
    "The second form called \"rectangular form\" is being computed using sympy:"
   ]
  },
  {
   "cell_type": "code",
   "execution_count": 15,
   "metadata": {},
   "outputs": [
    {
     "data": {
      "image/png": "[encoded data removed]",
      "text/latex": [
       "$\\displaystyle 25 \\sqrt{3} + 25 i$"
      ],
      "text/plain": [
       "25⋅√3 + 25⋅ⅈ"
      ]
     },
     "execution_count": 15,
     "metadata": {},
     "output_type": "execute_result"
    }
   ],
   "source": [
    "# using sympy\n",
    "from sympy import *\n",
    "init_printing()\n",
    "G=50\n",
    "theta = pi/6\n",
    "HR=G*(cos(theta) + I*sin(theta))\n",
    "HR"
   ]
  },
  {
   "cell_type": "code",
   "execution_count": 17,
   "metadata": {},
   "outputs": [
    {
     "data": {
      "image/png": "[encoded data removed]",
      "text/latex": [
       "$\\displaystyle 43.3012701892219 + 25.0 i$"
      ],
      "text/plain": [
       "43.3012701892219 + 25.0⋅ⅈ"
      ]
     },
     "execution_count": 17,
     "metadata": {},
     "output_type": "execute_result"
    }
   ],
   "source": [
    "N(HR)"
   ]
  },
  {
   "cell_type": "markdown",
   "metadata": {},
   "source": [
    "Sympy doesn't like a mixture of polar and rectangular calculations. But it will try. Learn to see this nonsense."
   ]
  },
  {
   "cell_type": "code",
   "execution_count": 22,
   "metadata": {},
   "outputs": [
    {
     "data": {
      "image/png": "[encoded data removed]",
      "text/latex": [
       "$\\displaystyle \\frac{25 \\sqrt{3}}{2} + \\frac{25 i}{2} + 25 e^{\\frac{i \\pi}{6}}$"
      ],
      "text/plain": [
       "                   ⅈ⋅π\n",
       "                   ───\n",
       "25⋅√3   25⋅ⅈ        6 \n",
       "───── + ──── + 25⋅ℯ   \n",
       "  2      2            "
      ]
     },
     "execution_count": 22,
     "metadata": {},
     "output_type": "execute_result"
    }
   ],
   "source": [
    "(HR + HP)/2"
   ]
  },
  {
   "cell_type": "markdown",
   "metadata": {},
   "source": [
    "wolfram alpha does a better job\n",
    "![(HR + HP)/2](assets/wolfram1.png)"
   ]
  },
  {
   "cell_type": "markdown",
   "metadata": {},
   "source": [
    "# 3.4 Phasors Example 3\n",
    "Write this phasor in the time domain $\\displaystyle \\stackrel{\\text{^}}{V} \\displaystyle = 30 + 30j$ V in the time domain.\n",
    "\n"
   ]
  },
  {
   "cell_type": "code",
   "execution_count": 38,
   "metadata": {},
   "outputs": [
    {
     "name": "stdout",
     "output_type": "stream",
     "text": [
      "phasor in form 1 polar is  30*sqrt(2) at angle  pi/4\n"
     ]
    },
    {
     "data": {
      "image/png": "[encoded data removed]",
      "text/latex": [
       "$\\displaystyle 30 \\sqrt{2}$"
      ],
      "text/plain": [
       "30⋅√2"
      ]
     },
     "execution_count": 38,
     "metadata": {},
     "output_type": "execute_result"
    }
   ],
   "source": [
    "#sympy\n",
    "from sympy import *\n",
    "V = S(30) + I*S(30)\n",
    "print('phasor in form 1 polar is ', abs(V), 'at angle ',arg(V))\n",
    "Abs(V)"
   ]
  },
  {
   "cell_type": "markdown",
   "metadata": {},
   "source": [
    "So in the time domain is going to be in rectangular form: $30cos(\\omega t) - 30sin(\\omega t)$    \n",
    "Terms with same frequency can be combined: into: $30\\sqrt{2} cos(\\omega\\ t + \\frac{\\pi}{4})$   \n",
    "And expressed in polar form: "
   ]
  },
  {
   "cell_type": "code",
   "execution_count": 42,
   "metadata": {},
   "outputs": [
    {
     "name": "stdout",
     "output_type": "stream",
     "text": [
      "phasor in form 1 (polar) is 42.42640687119285 with e raised to the angle  45.0  in degrees\n"
     ]
    }
   ],
   "source": [
    "#numpy\n",
    "from numpy import *\n",
    "V = 30 + 30*1j\n",
    "absolute(V)\n",
    "print('phasor in form 1 (polar) is', absolute(V),'with e raised to the angle ',angle(V)*180/pi,' in degrees')"
   ]
  },
  {
   "cell_type": "markdown",
   "metadata": {},
   "source": [
    "# 3.4 Phasors Example 4\n",
    "Express the following in phasor form $v(t) = 40 cos\\ \\omega t - 40 sin\\ \\omega t$  \n",
    "\n",
    "Look up this form $A cos(\\omega t) + Bcos(\\omega t)$ in this [table](https://en.wikibooks.org/wiki/Circuit_Theory/Phasors#Function_transformation_Derivation):  \n",
    "\n",
    "![timeToPhasorTranslation](assets/timeToPhasorTranslation.png)\n",
    "\n",
    "All time domain source transitions to the complex plane phasors in this course can be done with this table.  \n",
    "All phasor domain output transitions back to the time domain can be done with this same table.  \n",
    "  \n",
    "Looks to translate $ 40 cos\\ \\omega t - 40 sin\\ \\omega t$ to a phasor, use first and second lines of the table.\n",
    "\n",
    "Translates to $40 + 40i$ .. the rectangular phasor form. "
   ]
  },
  {
   "cell_type": "code",
   "execution_count": 33,
   "metadata": {},
   "outputs": [
    {
     "name": "stdout",
     "output_type": "stream",
     "text": [
      "phasor in form 1 polar is  40*sqrt(2) at angle  pi/4\n"
     ]
    },
    {
     "data": {
      "image/png": "[encoded data removed]",
      "text/latex": [
       "$\\displaystyle 40 \\sqrt{2}$"
      ],
      "text/plain": [
       "40⋅√2"
      ]
     },
     "execution_count": 33,
     "metadata": {},
     "output_type": "execute_result"
    }
   ],
   "source": [
    "#sympy\n",
    "V = S(40) + I*S(40)\n",
    "print('phasor in form 1 polar is ', abs(V), 'at angle ',arg(V))\n",
    "abs(V)"
   ]
  },
  {
   "cell_type": "code",
   "execution_count": 32,
   "metadata": {},
   "outputs": [
    {
     "data": {
      "image/png": "[encoded data removed]",
      "text/latex": [
       "$\\displaystyle \\frac{\\pi}{4}$"
      ],
      "text/plain": [
       "π\n",
       "─\n",
       "4"
      ]
     },
     "execution_count": 32,
     "metadata": {},
     "output_type": "execute_result"
    }
   ],
   "source": [
    "arg(V)"
   ]
  },
  {
   "cell_type": "code",
   "execution_count": 43,
   "metadata": {},
   "outputs": [
    {
     "name": "stdout",
     "output_type": "stream",
     "text": [
      "phasor in form 1 (polar) is 56.568542494923804 with e raised to the angle  0.7853981633974483  or  45.0  in degrees\n"
     ]
    }
   ],
   "source": [
    "#numpy\n",
    "from numpy import *\n",
    "V = 40 + 40*1j\n",
    "absolute(V)\n",
    "print('phasor in form 1 (polar) is', absolute(V),'with e raised to the angle ',angle(V),' or ',angle(V)*180/pi,' in degrees')"
   ]
  },
  {
   "cell_type": "markdown",
   "metadata": {},
   "source": [
    "So in the time domain, is going to be $42.4cos(\\omega t + 45^o)$ or $30\\sqrt{2}cos(\\omega t + \\frac{\\pi}{4})$"
   ]
  },
  {
   "cell_type": "markdown",
   "metadata": {},
   "source": [
    "In summary the answer in rectangular phasor form is $56.6 cos( \\omega t + 45^o)$ or $40\\sqrt{2}cos( \\omega t + \\frac{\\pi}{4})$"
   ]
  },
  {
   "cell_type": "markdown",
   "metadata": {
    "collapsed": true
   },
   "source": [
    "# 3.5 Impedance Example 5\n",
    "Calculate the impedances of a $50 \\Omega$ resistor, a $1 \\mu H$ inductor and a $100 \\mu F$ capacitor at frequencies: f=$0,10^3,10^6,10^9$ and $\\infty$ Hz  \n",
    "\n",
    "$Z_R = 50 \\Omega$ no matter what  \n",
    "$Z_L = 10^{-6} * j2\\pi f \\Omega$   \n",
    "$Z_C = \\frac{1}{C * 10^{-4} * j2\\pi f} = -j\\frac{1}{C * 10^{-4} * 2\\pi f} \\Omega$  \n"
   ]
  },
  {
   "cell_type": "code",
   "execution_count": 54,
   "metadata": {},
   "outputs": [
    {
     "data": {
      "text/plain": [
       "array([6.28318530717959e-21*I, 0.00628318530717959*I, 6.28318530717959*I,\n",
       "       6283.18530717959*I, 6283185307.17959*I], dtype=object)"
      ]
     },
     "execution_count": 54,
     "metadata": {},
     "output_type": "execute_result"
    }
   ],
   "source": [
    "#numpy\n",
    "from numpy import *\n",
    "f = array([10**-15,10**3, 10**6, 10**9, 10**15])\n",
    "ZL = I*10**(-6) * 2 * pi* f\n",
    "ZL"
   ]
  },
  {
   "cell_type": "code",
   "execution_count": 55,
   "metadata": {},
   "outputs": [
    {
     "data": {
      "text/plain": [
       "array([-1.59154943091895e+18, -1.59154943091895, -0.00159154943091895,\n",
       "       -1.59154943091895e-6, -1.59154943091895e-12], dtype=object)"
      ]
     },
     "execution_count": 55,
     "metadata": {},
     "output_type": "execute_result"
    }
   ],
   "source": [
    "ZC = -I/(I*10**(-4) * 2 * pi* f)\n",
    "ZC"
   ]
  },
  {
   "cell_type": "markdown",
   "metadata": {},
   "source": [
    "# 3.5 Impedance Example 6\n",
    "Given the series RLC circuit, find the current using the phasor method  \n",
    "Assume $V_1(t) = V_m cos(\\omega t + \\varphi_v)$ and R,L and C are known values.\n",
    "![example series RLC](assets/SeriesRLC.png)\n",
    "  \n",
    "Symbols: 8   \n",
    "Passive devices: $R, L, C$  \n",
    "Voltages: $\\stackrel{\\text{^}}V_1, \\stackrel{\\text{^}}V_R, \\stackrel{\\text{^}}V_L, \\stackrel{\\text{^}}V_C$  \n",
    "Currents: $\\stackrel{\\text{^}}I$  \n",
    "angular velocity: $\\omega$  \n",
    " \n",
    "Differential, Steady State, Homogenous Equations:4  \n",
    "Terminal Device: 3  \n",
    "$R\\cdot I - V$  \n",
    "$L\\frac{d}{dt}I - V$  \n",
    "$C\\frac{d}{dt}V = I$  \n",
    "\n",
    "Mesh: 1   \n",
    "0 = $V_1(t) - Ri(t) - L\\frac{di(t)}{dt} - \\frac{1}{C}\\int_{-\\infty}^{t}i(\\tau)d\\tau$  \n",
    "  \n",
    "Node: 0  \n",
    "\n",
    "Constants:  \n",
    "$V_1(t) = V_m cos(\\omega t + \\varphi_v)$  \n",
    "$\\stackrel{\\text{^}}V_1 = V_m\\ cos\\varphi_v + jV_m\\sin\\varphi_v = V_m e^{j\\varphi_v}$  \n",
    "\n",
    "  \n",
    "The Mesh equation can be written in the complex domain as follows:  \n",
    "  \n",
    "0 = $\\stackrel{\\text{^}}V_1 - R\\stackrel{\\text{^}}I - j2\\pi\\omega L\\stackrel{\\text{^}}I - \\frac{1}{j2\\pi\\omega C}\\stackrel{\\text{^}}I$    \n",
    "  \n",
    "Combining all the $\\stackrel{\\text{^}}I$ terms and solving for $\\frac{\\stackrel{\\text{^}}V_1}{\\stackrel{\\text{^}}I}\\ \\ $get:  \n",
    "\n",
    "$\\frac{\\stackrel{\\text{^}}V_1}{\\stackrel{\\text{^}}I} = R + j2\\pi\\omega L + \\frac{1}{j2\\pi\\omega C} = Z_{total}$  \n"
   ]
  },
  {
   "cell_type": "markdown",
   "metadata": {},
   "source": [
    "$Z_{total} = R + j2\\pi\\omega L + \\frac{1}{j2\\pi\\omega C} = Z_m e^{j\\phi}$  \n",
    "\n",
    "meaning that $Z_m$ and $\\phi$ can be found once values are given for $R,\\omega,L$ and $C$\n",
    "\n",
    "Now have this expression for the current:  \n",
    "  \n",
    "$\\stackrel{\\text{^}}I = \\frac{\\stackrel{\\text{^}}V_1}{Z_m e^{j\\phi}} = \\frac{ V_m e^{j\\varphi_v}}{Z_m e^{j\\phi}} = \\frac{V_m}{Zm}e^{j(\\varphi_v - \\phi)}$  \n",
    "\n",
    "This can be translated back into the time domain using [eulers number:](https://en.wikipedia.org/wiki/E_(mathematical_constant)#Complex_numbers)  and the table above:\n",
    "  \n",
    "$i(t) = \\frac{V_m}{Zm} \\Re(cos (\\omega t + \\varphi_v - \\phi) + j sin(\\omega t + \\varphi_v - \\phi))$  \n",
    "  \n",
    "$\\Re$ stands for the real part of\n",
    "  \n",
    "$i(t) = \\frac{V_m}{Zm}cos (\\omega t + \\varphi_v - \\phi)$\n",
    "\n",
    "By using the phasor technique, we were able to obtain the expression for current through the branch without resorting to any calculus. \n",
    "\n",
    "The concept of overall circuit impedances drops in terms of it's importance as we develop new concepts heading into chapter 7. "
   ]
  },
  {
   "cell_type": "markdown",
   "metadata": {},
   "source": [
    "# 3.5 Impedance Example 7\n",
    "$i(t) = 50 sin(377t) mA$   \n",
    "$v(t) = 120 \\sqrt{2} cos(377t - 150^o) V$  \n",
    "  \n",
    "Find the values of R and C that make this happen.\n",
    "\n",
    "![example3-6-1](assets/Example35-7.png)\n",
    "\n",
    "This approach will not work:\n",
    "Symbols: 7  \n",
    "Passive: $R,C$  \n",
    "Voltages: $V,V_R,V_C$  \n",
    "Current: $I$  \n",
    "frequency: $\\omega$\n",
    "  \n",
    "Equations:3   \n",
    "Terminal:2  \n",
    "$I\\cdot R - V_R$    \n",
    "$C \\frac{d}{dt}V_C I$  \n",
    "Mesh:1  \n",
    "$V - V_R - V_C$  \n",
    "Node:0  \n",
    "\n",
    "Knowns:3  \n",
    "$I = 0.05 sin(377t)$  \n",
    "$V = 120 \\sqrt{2} cos(377t - 150^o)$   \n",
    "$\\omega = 377$\n",
    "\n",
    "7 - 3 - 3 = 1 unknown\n",
    "Asked for 2 unknowns, R and C. This analysis is not going to work. \n"
   ]
  },
  {
   "cell_type": "markdown",
   "metadata": {},
   "source": [
    "Philosophically, what is going wrong? Have more information than is needed to do the problem. An additional variable ... phase impacts the values of R and C. This variable's influence is not capatured in the above workflow.   \n",
    "  \n",
    "The [impedance concept](https://en.wikipedia.org/wiki/Electrical_impedance) is necessary to do this problem. \n",
    "In chapter 7 this will be generalized to a [transfer function](https://en.wikipedia.org/wiki/Transfer_function) (H).   \n",
    "  \n",
    "The impedance concept is in the complex plane. It turns Resistors, Capacitors and Inductors into one thing ... an impedance. In the complex plane, impedance has a phase angle and is related to the current and voltage phasor angles.   \n",
    "  \n",
    "The complex plane collapses the differences between Resistors and Reactive components (Capacitors and Inductors) into one complex number.  \n",
    "  \n",
    "After finding the complex number, we can turn it into into real world Resistor values, Capacitor values and Inductor values when going back into the time domain.\n",
    "\n",
    "Redraw circuit in terms of impedances and phasors:\n",
    "\n",
    "![example3-6-1](assets/Example35-7a.png)"
   ]
  },
  {
   "cell_type": "markdown",
   "metadata": {},
   "source": [
    "Symbols: 3  \n",
    "Impedances: $Z$  \n",
    "Phasor Voltages: $\\stackrel{\\text{^}}V$  \n",
    "Phasor Currents: $\\stackrel{\\text{^}}I$  \n",
    "  \n",
    "Write Equations: 1  \n",
    "Impedance Equations: 1\n",
    "$Z - \\frac{\\stackrel{\\text{^}}V}{\\stackrel{\\text{^}}I}$  \n",
    "Mesh:0  \n",
    "Node:0\n",
    "\n",
    "Convert knowns to phasors:  \n",
    "$I = 0.05 sin(377t)$  \n",
    "$V = 120 \\sqrt{2} cos(377t - 150^o)$  \n",
    "\n",
    "![timeToPhasorTranslation](assets/timeToPhasorTranslation.png)\n",
    "$\\stackrel{\\text{^}}I = -j0.05$   \n",
    "$\\stackrel{\\text{^}}V = 120*cos(150^o) - j120*sin(150^o)$  \n"
   ]
  },
  {
   "cell_type": "code",
   "execution_count": 32,
   "metadata": {},
   "outputs": [
    {
     "data": {
      "image/png": "[encoded data removed]",
      "text/latex": [
       "$\\displaystyle 1200 \\sqrt{2} - 1200 \\sqrt{6} i$"
      ],
      "text/plain": [
       "1200⋅√2 - 1200⋅√6⋅ⅈ"
      ]
     },
     "execution_count": 32,
     "metadata": {},
     "output_type": "execute_result"
    }
   ],
   "source": [
    "from sympy import *\n",
    "init_printing()\n",
    "\n",
    "angle = 150/S(360) * 2*pi\n",
    "i = -I*5/S(100)\n",
    "V = 120*sqrt(2)*(cos(angle) - I*sin(angle))\n",
    "\n",
    "Z = V/i\n",
    "simplify(Z)"
   ]
  },
  {
   "cell_type": "markdown",
   "metadata": {},
   "source": [
    "Now we need to transfer back into time. Z is an impedance, still stuck in the complex plane of repeating patterns (magnitude and phase) but not real world Resistors and Capacitors. \n",
    "\n",
    "Now we have a different equation:\n",
    "\n",
    "$Z = R + \\frac{1}{Cj\\omega}$\n",
    "\n",
    "This $Z = re(Z) + im(Z)$ needs to be split up into two equations:  \n",
    "\n",
    "$R = re(Z)$  \n",
    "$\\frac{1}{Ci\\omega} = im(Z)$  "
   ]
  },
  {
   "cell_type": "code",
   "execution_count": 34,
   "metadata": {},
   "outputs": [
    {
     "data": {
      "image/png": "[encoded data removed]",
      "text/latex": [
       "$\\displaystyle 1200 \\sqrt{2}$"
      ],
      "text/plain": [
       "1200⋅√2"
      ]
     },
     "execution_count": 34,
     "metadata": {},
     "output_type": "execute_result"
    }
   ],
   "source": [
    "R = re(Z)\n",
    "R"
   ]
  },
  {
   "cell_type": "code",
   "execution_count": 42,
   "metadata": {},
   "outputs": [
    {
     "data": {
      "image/png": "[encoded data removed]",
      "text/latex": [
       "$\\displaystyle \\left\\{ C : \\frac{\\sqrt{6}}{2714400}\\right\\}$"
      ],
      "text/plain": [
       "⎧      √6  ⎫\n",
       "⎨C: ───────⎬\n",
       "⎩   2714400⎭"
      ]
     },
     "execution_count": 42,
     "metadata": {},
     "output_type": "execute_result"
    }
   ],
   "source": [
    "omega = 377\n",
    "C = symbols('C')\n",
    "solve([im(Z)*I - 1/(C*omega*I)],(C))"
   ]
  },
  {
   "cell_type": "code",
   "execution_count": 43,
   "metadata": {},
   "outputs": [
    {
     "name": "stdout",
     "output_type": "stream",
     "text": [
      "1697.05627484771 9.02405593421448e-7\n"
     ]
    }
   ],
   "source": [
    "C = sqrt(6)/2714400\n",
    "print(N(R),N(C))"
   ]
  },
  {
   "cell_type": "markdown",
   "metadata": {
    "collapsed": true
   },
   "source": [
    "# 3.6 Example 8\n",
    "![example3-6-1](assets/Example3-6-1.png)\n",
    "\n",
    "Since the circuit has no components, and sources are function of time, redraw in terms of phasors and impedances.\n",
    "![example3-6-1](assets/Example3-6-1a.png)\n",
    "\n",
    "\n",
    "Symbols: 9  \n",
    "Impedances: $Z_1, Z_2, Z_3$   \n",
    "Voltages: $\\stackrel{\\text{^}}V_{S1}, \\stackrel{\\text{^}}V_{S2},\\stackrel{\\text{^}}V_{1}, \\stackrel{\\text{^}}V_{2}, \\stackrel{\\text{^}}V_{3}$       \n",
    "Currents: $\\stackrel{\\text{^}}I_1, \\stackrel{\\text{^}}I_2, \\stackrel{\\text{^}}I_3$     \n",
    "\n",
    "Equations: 7 - 1 = 6  \n",
    "5 Terminal Equations: 3  \n",
    "$\\stackrel{\\text{^}}V_{1} - Z_1*\\stackrel{\\text{^}}I_1$  \n",
    "$\\stackrel{\\text{^}}V_{2} - Z_2*\\stackrel{\\text{^}}I_2$  \n",
    "$\\stackrel{\\text{^}}V_{3} - Z_3*\\stackrel{\\text{^}}I_3$  \n",
    "Mesh Equations: 2     \n",
    "$\\stackrel{\\text{^}}V_{S1} - \\stackrel{\\text{^}}V_{1} - \\stackrel{\\text{^}}V_{2}$  \n",
    "$\\stackrel{\\text{^}}V_{S2} - \\stackrel{\\text{^}}V_{3} + \\stackrel{\\text{^}}V_{2}$  \n",
    "Node Equation: 2  \n",
    "$\\stackrel{\\text{^}}I_1 - \\stackrel{\\text{^}}I_2 - \\stackrel{\\text{^}}I_3$  \n",
    "$\\stackrel{\\text{^}}I_2 + \\stackrel{\\text{^}}I_3 - \\stackrel{\\text{^}}I_1$  \n",
    "  \n",
    "9 symbols, 6 equations - 0 knowns = 3 .. assume Z's are known to follow some of the book's work\n",
    "\n",
    "All the Voltages below are phasors .. the symbols $i_1,i_2,i_3$ are also phasors.  \n",
    "Each equation is in the complex domain where values can be determined, once the independent unknown values are given.  \n",
    "Then the time domain solutions can be written.   "
   ]
  },
  {
   "cell_type": "code",
   "execution_count": 46,
   "metadata": {},
   "outputs": [
    {
     "name": "stdout",
     "output_type": "stream",
     "text": [
      "i3 = (VS1*Z2 + VS2*(Z1 + Z2))/(Z1*Z2 + Z1*Z3 + Z2*Z3)\n",
      "i2 = (VS1*Z3 - VS2*Z1)/(Z1*Z2 + Z1*Z3 + Z2*Z3)\n",
      "i1 = (VS1*Z2 + VS1*Z3 + VS2*Z2)/(Z1*Z2 + Z1*Z3 + Z2*Z3)\n",
      "V3 = Z3*(VS1*Z2 + VS2*(Z1 + Z2))/(Z1*Z2 + Z1*Z3 + Z2*Z3)\n",
      "V2 = Z2*(VS1*Z3 - VS2*Z1)/(Z1*Z2 + Z1*Z3 + Z2*Z3)\n",
      "V1 = Z1*(VS1*Z2 + VS1*Z3 + VS2*Z2)/(Z1*Z2 + Z1*Z3 + Z2*Z3)\n"
     ]
    }
   ],
   "source": [
    "from sympy import *\n",
    "init_printing()\n",
    "VS1,VS2,V1,V2,V3,i1,i2,i3,Z1,Z2,Z3 = symbols('VS1,VS2,V1,V2,V3,i1,i2,i3,Z1,Z2,Z3')\n",
    "answers = solve([V1-Z1*i1,V2-Z2*i2,V3-Z3*i3,VS1 - V1 - V2, VS2 + V2 - V3, i1-i2-i3],(V1,V2,V3,i1,i2,i3,VS1,VS2))\n",
    "for x in answers:\n",
    "    print(x,'=',answers[x])"
   ]
  },
  {
   "cell_type": "code",
   "execution_count": 47,
   "metadata": {},
   "outputs": [
    {
     "data": {
      "image/png": "[encoded data removed]",
      "text/latex": [
       "$\\displaystyle \\left\\{ V_{1} : \\frac{Z_{1} \\left(VS_{1} Z_{2} + VS_{1} Z_{3} + VS_{2} Z_{2}\\right)}{Z_{1} Z_{2} + Z_{1} Z_{3} + Z_{2} Z_{3}}, \\  V_{2} : \\frac{Z_{2} \\left(VS_{1} Z_{3} - VS_{2} Z_{1}\\right)}{Z_{1} Z_{2} + Z_{1} Z_{3} + Z_{2} Z_{3}}, \\  V_{3} : \\frac{Z_{3} \\left(VS_{1} Z_{2} + VS_{2} \\left(Z_{1} + Z_{2}\\right)\\right)}{Z_{1} Z_{2} + Z_{1} Z_{3} + Z_{2} Z_{3}}, \\  i_{1} : \\frac{VS_{1} Z_{2} + VS_{1} Z_{3} + VS_{2} Z_{2}}{Z_{1} Z_{2} + Z_{1} Z_{3} + Z_{2} Z_{3}}, \\  i_{2} : \\frac{VS_{1} Z_{3} - VS_{2} Z_{1}}{Z_{1} Z_{2} + Z_{1} Z_{3} + Z_{2} Z_{3}}, \\  i_{3} : \\frac{VS_{1} Z_{2} + VS_{2} \\left(Z_{1} + Z_{2}\\right)}{Z_{1} Z_{2} + Z_{1} Z_{3} + Z_{2} Z_{3}}\\right\\}$"
      ],
      "text/plain": [
       "⎧    Z₁⋅(VS₁⋅Z₂ + VS₁⋅Z₃ + VS₂⋅Z₂)       Z₂⋅(VS₁⋅Z₃ - VS₂⋅Z₁)      Z₃⋅(VS₁⋅Z₂ \n",
       "⎨V₁: ─────────────────────────────, V₂: ─────────────────────, V₃: ───────────\n",
       "⎩        Z₁⋅Z₂ + Z₁⋅Z₃ + Z₂⋅Z₃          Z₁⋅Z₂ + Z₁⋅Z₃ + Z₂⋅Z₃         Z₁⋅Z₂ + \n",
       "\n",
       "+ VS₂⋅(Z₁ + Z₂))      VS₁⋅Z₂ + VS₁⋅Z₃ + VS₂⋅Z₂         VS₁⋅Z₃ - VS₂⋅Z₁        \n",
       "────────────────, i₁: ────────────────────────, i₂: ─────────────────────, i₃:\n",
       "Z₁⋅Z₃ + Z₂⋅Z₃          Z₁⋅Z₂ + Z₁⋅Z₃ + Z₂⋅Z₃        Z₁⋅Z₂ + Z₁⋅Z₃ + Z₂⋅Z₃     \n",
       "\n",
       " VS₁⋅Z₂ + VS₂⋅(Z₁ + Z₂)⎫\n",
       " ──────────────────────⎬\n",
       " Z₁⋅Z₂ + Z₁⋅Z₃ + Z₂⋅Z₃ ⎭"
      ]
     },
     "execution_count": 47,
     "metadata": {},
     "output_type": "execute_result"
    }
   ],
   "source": [
    "answers"
   ]
  },
  {
   "cell_type": "markdown",
   "metadata": {},
   "source": [
    "# 3.6 Example 9 \n",
    "![example3-6-2](assets/Example3-6-2.png)\n",
    "Find all voltages and currents if all terminal device values are known and the two sources are known:  \n",
    "First convert to phasors and impedances. \n",
    "\n",
    "![example3-6-2](assets/Example3-6-2a.png)\n"
   ]
  },
  {
   "cell_type": "markdown",
   "metadata": {},
   "source": [
    "# Symbols: 16  \n",
    "impedances: $Z_1, Z_2, Z_3, Z_4$   \n",
    "voltages: $\\stackrel{\\text{^}}V_{s}, \\stackrel{\\text{^}}V_x, \\stackrel{\\text{^}}V_{1}, \\stackrel{\\text{^}}V_{2}, \\stackrel{\\text{^}}V_{3}, \\stackrel{\\text{^}}V_{4}, \\stackrel{\\text{^}}V_{x}$    \n",
    "currents: $\\stackrel{\\text{^}}i_x, \\stackrel{\\text{^}}i_1, \\stackrel{\\text{^}}i_2, \\stackrel{\\text{^}}i_3, \\stackrel{\\text{^}}i_4, \\stackrel{\\text{^}}i_{s}$  \n",
    "     \n",
    "Equations: 11 -1 = 10  \n",
    "Terminal Equations:  4 \n",
    "$V_1 - Z_1*i_1$  \n",
    "$V_2 - Z_2*i_2$  \n",
    "$V_3 - Z_3*i_3$  \n",
    "$V_4 - Z_4*i_4$  \n",
    " \n",
    "Mesh Equations: 3  \n",
    "$V_{S}-V_{1}$   \n",
    "$V_{1}-V_{2}-V_{3}$    \n",
    "$V_3 + V_4 - V_x$  \n",
    "  \n",
    "Node Equations: 4   \n",
    "$i_x-i_1-i_2$  \n",
    "$i_2+i_4-i_3$  \n",
    "$i_1 + i_3 - i_s - i_x$   \n",
    "$i_{s}-i_4$  trivial  \n",
    "\n",
    "Knowns:  6\n",
    "$Z_1, Z_2, Z_3, Z_4, V_{s}, I_{s}$  \n",
    "\n",
    "16 symbols - 10 equations = 6 ...10 dependent equations found in terms of 6 independent variables or knowns.  "
   ]
  },
  {
   "cell_type": "code",
   "execution_count": 50,
   "metadata": {},
   "outputs": [
    {
     "data": {
      "image/png": "[encoded data removed]",
      "text/latex": [
       "$\\displaystyle \\left\\{ V_{1} : VS, \\  V_{2} : \\frac{Z_{2} \\left(VS - Z_{3} iss\\right)}{Z_{2} + Z_{3}}, \\  V_{3} : \\frac{Z_{3} \\left(VS + Z_{2} iss\\right)}{Z_{2} + Z_{3}}, \\  V_{4} : Z_{4} iss, \\  Vx : \\frac{VS Z_{3} + iss \\left(Z_{2} Z_{3} + Z_{2} Z_{4} + Z_{3} Z_{4}\\right)}{Z_{2} + Z_{3}}, \\  i_{1} : \\frac{VS}{Z_{1}}, \\  i_{2} : \\frac{VS - Z_{3} iss}{Z_{2} + Z_{3}}, \\  i_{3} : \\frac{VS + Z_{2} iss}{Z_{2} + Z_{3}}, \\  i_{4} : iss, \\  ix : \\frac{VS \\left(Z_{1} + Z_{2} + Z_{3}\\right) - Z_{1} Z_{3} iss}{Z_{1} \\left(Z_{2} + Z_{3}\\right)}\\right\\}$"
      ],
      "text/plain": [
       "⎧            Z₂⋅(VS - Z₃⋅iss)      Z₃⋅(VS + Z₂⋅iss)                  VS⋅Z₃ + i\n",
       "⎨V₁: VS, V₂: ────────────────, V₃: ────────────────, V₄: Z₄⋅iss, Vx: ─────────\n",
       "⎩                Z₂ + Z₃               Z₂ + Z₃                                \n",
       "\n",
       "ss⋅(Z₂⋅Z₃ + Z₂⋅Z₄ + Z₃⋅Z₄)      VS      VS - Z₃⋅iss      VS + Z₂⋅iss          \n",
       "──────────────────────────, i₁: ──, i₂: ───────────, i₃: ───────────, i₄: iss,\n",
       "     Z₂ + Z₃                    Z₁        Z₂ + Z₃          Z₂ + Z₃            \n",
       "\n",
       "     VS⋅(Z₁ + Z₂ + Z₃) - Z₁⋅Z₃⋅iss⎫\n",
       " ix: ─────────────────────────────⎬\n",
       "              Z₁⋅(Z₂ + Z₃)        ⎭"
      ]
     },
     "execution_count": 50,
     "metadata": {},
     "output_type": "execute_result"
    }
   ],
   "source": [
    "Z1, Z2, Z3, Z4,ix,i1,i2,i3,i4,iss,Vx,V1,V2,V3,V4,VS = symbols('Z1, Z2, Z3, Z4,ix,i1,i2,i3,i4,iss,Vx,V1,V2,V3,V4,VS')\n",
    "solve([V1-Z1*i1,V2-Z2*i2,V3-Z3*i3,V4-Z4*i4,VS-V1,V1-V2-V3,V3+V4-Vx,iss-i4,ix-i1-i2,i2+i4-i3],(ix,i1,i2,i3,i4,Vx,V1,V2,V3,V4))"
   ]
  },
  {
   "cell_type": "code",
   "execution_count": null,
   "metadata": {
    "collapsed": true
   },
   "outputs": [],
   "source": []
  }
 ],
 "metadata": {
  "kernelspec": {
   "display_name": "Python 3",
   "language": "python",
   "name": "python3"
  },
  "language_info": {
   "codemirror_mode": {
    "name": "ipython",
    "version": 3
   },
   "file_extension": ".py",
   "mimetype": "text/x-python",
   "name": "python",
   "nbconvert_exporter": "python",
   "pygments_lexer": "ipython3",
   "version": "3.7.4"
  }
 },
 "nbformat": 4,
 "nbformat_minor": 2
}
