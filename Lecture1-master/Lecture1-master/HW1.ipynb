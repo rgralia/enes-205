{
 "cells": [
  {
   "cell_type": "markdown",
   "metadata": {},
   "source": [
    "# HW Chapter 1 .. 1,2,3,6,7,12,13,17,18,19,23,29\n",
    "  \n",
    "# 1. \n",
    "### Convert the following derived units into the basic four SI units (m,kg,s,A)\n",
    "  \n",
    "a) $joule \\longrightarrow {joule} \\frac{N\\cdot m}{joule} \\frac{kg\\cdot m}{N\\cdot s^2} = \\frac{kg\\cdot m^2}{s^2}$  \n",
    "b) $columb \\longrightarrow q \\longrightarrow q \\frac{A\\cdot s}{q} = A\\cdot s$ EQ 1.5   \n",
    "c) $volts \\longrightarrow v \\longrightarrow v = \\frac{joule}{q} = \\frac{kg\\cdot m^2}{s^2} \\cdot \\frac{1}{A\\cdot s} = \\frac{joule}{q} = \\frac{kg\\cdot m^2}{A\\cdot s^3}$ EQ 1.12   \n",
    "d) $webers \\longrightarrow W_b = v\\cdot = \\frac{kg\\cdot m^2}{A\\cdot s^3}\\cdot s = \\frac{kg\\cdot m^2}{A\\cdot s^2} $ EQ1.23  "
   ]
  },
  {
   "cell_type": "markdown",
   "metadata": {},
   "source": [
    "# 2. \n",
    "### Express the following quantities in terms of multiplying factors $milli = m, micro=\\mu, nano = n, pico = p, femto =f$  \n",
    "  \n",
    "a) $2.54 \\cdot 10^4 electrons \\cdot \\frac{- columb}{6.24 \\cdot 10^{18}} \\cdot \\frac{pico}{10^{-9}} = -40.7 pC$  \n",
    "b) $-5.63 \\cdot 10^{-14} C \\cdot \\frac{femto}{10^{-15}} = -56.3 fC$  \n",
    "c) $0.0035 W_b \\cdot \\frac{milli}{10^{-3}} = 3.5 mW_b$  \n",
    "d) $0.00000915A * \\frac{micro}{10^{-6}} = 9.15 \\mu A$"
   ]
  },
  {
   "cell_type": "markdown",
   "metadata": {},
   "source": [
    "# 3. \n",
    "### Find the number of electrons to generate a total charge of ... using $killo K, mega M, giga G, tera T$  \n",
    "  \n",
    "a) $-1.6 \\cdot 10^{-7} C * \\frac{-6.24\\cdot 10^{18}}{1C} = 998\\ G\\ electrons$  \n",
    "b) $-1.17 \\cdot 10^{-17} C * \\frac{-6.24\\cdot 10^{18}}{1C} = 73.0 electrons$  \n",
    "c) $12\\mu C \\cdot \\frac{10^{-6}}{\\mu}  * \\frac{-6.24\\cdot 10^{18}}{1C} = -74.9\\ T\\ electrons$  \n",
    "d) $-3.73 pC \\cdot \\frac{10^{-12}}{p} C * \\frac{-6.24\\cdot 10^{18}}{1C} = 23.3 electrons$  "
   ]
  },
  {
   "cell_type": "code",
   "execution_count": 16,
   "metadata": {},
   "outputs": [
    {
     "name": "stdout",
     "output_type": "stream",
     "text": [
      "998.4\n",
      "73.008\n",
      "-74.88\n",
      "23.275199999999995\n"
     ]
    }
   ],
   "source": [
    "from numpy import *\n",
    "print(-1.6*10**(-7)*(-6.24*10**(18))/1000000000)\n",
    "print(-1.17*10**(-17)*(-6.24*10**(18)))\n",
    "print(12*10**(-6)*(-6.24*10**(18))/1000000000000)\n",
    "print(-3.73*10**(-12)*(-6.24*10**(18))/1000000)"
   ]
  },
  {
   "cell_type": "markdown",
   "metadata": {},
   "source": [
    "# 6. \n",
    "### The total charge in a volume V as a function of time is show below. "
   ]
  },
  {
   "cell_type": "code",
   "execution_count": null,
   "metadata": {},
   "outputs": [],
   "source": [
    "#plotting 5 different piecewise (pw) functions\n",
    "#there is a total time of 6 ms where the function is defined\n",
    "#in each piece there is a period (pwp) and slope (pws)\n",
    "pwp = ([1,2,1,1,1]) #in seconds\n",
    "pws = ([0,-1,-2,2,-4])\n",
    "\n"
   ]
  },
  {
   "cell_type": "code",
   "execution_count": null,
   "metadata": {},
   "outputs": [],
   "source": []
  }
 ],
 "metadata": {
  "kernelspec": {
   "display_name": "Python 3",
   "language": "python",
   "name": "python3"
  },
  "language_info": {
   "codemirror_mode": {
    "name": "ipython",
    "version": 3
   },
   "file_extension": ".py",
   "mimetype": "text/x-python",
   "name": "python",
   "nbconvert_exporter": "python",
   "pygments_lexer": "ipython3",
   "version": "3.7.3"
  }
 },
 "nbformat": 4,
 "nbformat_minor": 2
}
