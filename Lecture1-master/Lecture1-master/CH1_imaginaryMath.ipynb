{
 "cells": [
  {
   "cell_type": "markdown",
   "metadata": {},
   "source": [
    "# Chapter 1 Imaginary Math Practice"
   ]
  },
  {
   "cell_type": "markdown",
   "metadata": {},
   "source": [
    "# Transform into the Complex Domain and back to reality\n",
    "\n",
    "[Wave or Particle](https://en.wikipedia.org/wiki/Wave%E2%80%93particle_duality)?   \n",
    "[Position or Momentum](https://en.wikipedia.org/wiki/Position_and_momentum_space)?   \n",
    "[Frequency or Time](https://en.wikipedia.org/wiki/Time%E2%80%93frequency_representation)?  \n",
    "[Phase or Count](https://en.wikipedia.org/wiki/Particle_number#In_quantum_mechanics)?  \n",
    "There are more pairs. stress/strain, entropy/temperature, pressure/volume.\n",
    "\n",
    "This course starts with the potential/kinetic energy duality. Capacitors store static voltage energy. Inductors store magnetic field energy. Fundamentally this course is about the math of forms of energy: that stored in a magnetic field or that stored in a voltage field. \n",
    "\n",
    "These pairs are called conjugates, equivalencies, or dualities. They are similar in that equations relate them. One can be predicted from the other. Often there are infinites involved. \n",
    "\n",
    "What unites all these is math in the complex plane. Everything in a circuit from resistors and capacitors to voltages and currents are converted complex numbers when computing the output. \n",
    "\n",
    "\n",
    "# An Outline\n",
    "\n",
    "In the real world there is an input, a circuit and an output. Three equations. An equation for the input(s), an equation for the circuit, and the computed output equations(s) as a function of time. \n",
    "\n",
    "Our problems start in the time domain where there is a differential equation. They are transformed into the complex domain where integrals and differentials disappear. Then they are transformed back into the time domain.    \n",
    "   \n",
    "Suppose a circuit $z$ has an input of $v(t)$ and output $i(t)$. They are related in the time domain by:  \n",
    "\n",
    "$v(t) = z*i(t)$\n",
    "\n",
    "Suppose $z$ is a series circuit that is a function of $R$,$L$, and $C$. This turns into a differential equation where our goal is to find $i(t)$ such that the following equations is true:\n",
    "\n",
    "$v(t) = Ri(t) - L\\frac{di(t)}{dt} - \\frac{1}{C}\\int_{-\\infty}^{t}i(\\tau)d\\tau$\n",
    "\n",
    "When L=0 and C=0, we recognize this equation as Ohms Law:\n",
    "\n",
    "$V(t) = Ri(t)$\n",
    "\n",
    "Ohms law doesn't involve differential equations. The numbers are all real.\n",
    "\n",
    "But this doesn't model the real world of very well.\n",
    "\n",
    "The equation for a resistor is $v(t) = Ri(t)$.  \n",
    "The equation for an inductor is $v(t) = L\\frac{di(t)}{dt}$.  \n",
    "The equation for a capacitor is $i(t) = C\\frac{dv(t)}{dt}$.  \n",
    "\n",
    "These equations are then solved combined to reflect the circuit into one equation in the complex domain that doesn't involve derivatives or integrals. The equations are solved through algebra. \n",
    "\n",
    "## Step 1 Transform driving Sources into Phasors\n",
    "\n",
    "**CONCEPT** Associate the integral and differentials with the components, not the sources. \n",
    "\n",
    "Now turn $v(t)$ into a phasor $\\displaystyle \\stackrel{\\text{^}}V$ and $i(t)$ into $\\displaystyle \\stackrel{\\text{^}}I$. We are assuming the $v(t)$ is a known sinusoid (cos or sin function of time) that is translated into from time into a complex domain phasor using this [table](https://en.wikibooks.org/wiki/Circuit_Theory/Phasors):\n",
    "\n",
    "![phasorTransformTable](assets/timeToPhasorTranslation.png)\n",
    "\n",
    "Once the unknown $\\displaystyle \\stackrel{\\text{^}}I$ is calculated as a complex number, the same table above can be used to find the time domain solution i(t). Phase $\\omega$ is used to keep track of same frequency sinusoids that are not in rythm; that repeat their sinusoidal pattern peaks at slightly different times. \n",
    "\n",
    "## Step 2 Transform circuit components into Impedances\n",
    "The next step is to transform the circuit $z$ into rectances and impedances $Z$. The steps are pretty easy.\n",
    "\n",
    "$R \\implies R$ .. R stays the same in the complex domain.  \n",
    "$L \\implies X_L = i\\omega L$ .. L stores energy as a magnetic field and releases it in the form of current  \n",
    "$C \\implies X_C = \\frac{1}{i\\omega} C$ .. C stores energy as an electric field and releases it in the form of voltage  \n",
    "\n",
    "This is similar to the [Lagrangian](https://en.wikipedia.org/wiki/Lagrangian_mechanics) rather than Newtonian that replaces time with kinetic and potential energy. Here we are eliminating the repeating patterns of time using phasors. We are capturing the potential energy a capacitor stores and releases, and the inductor storage and release of kinetic energy in symbols.\n",
    "\n",
    "$Z$ is called an \"impedance.\"\n",
    "$X_L$ and $X_C$ are called \"reactances\" because they react to the circuit by hording energy and then dumping it back into the circuit later.  \n",
    "  \n",
    "$Z = R + X_L + X_C$ or impedance = resistance + reactance.   \n",
    "\n",
    "The time domain equation now looks like a simple algebra problem (with compelx numbers):\n",
    "\n",
    "$\\displaystyle \\stackrel{\\text{^}}V$ = $Z$ * $\\displaystyle \\stackrel{\\text{^}}I$\n",
    "\n",
    "## Step 3 Translate back into reality of time and circuit components\n",
    "\n",
    "Any term above can be an unknown.  \n",
    "  \n",
    "Transormation of a phasor back to the time domain uses the same table above.  \n",
    "\n",
    "Transformation of the impedance back into component values so an unknown component value can be found involves two equations and two unknowns:  \n",
    "  \n",
    "real=real  \n",
    "imaginary=imaginary   \n",
    "\n",
    "Only in trival circumstances does real=$R$ and imaginary=$X_L$ or $X_C$. \n",
    "\n",
    "# Two forms of imaginary numbers\n",
    "\n",
    "Imaginary numbers have two forms:\n",
    "\n",
    "Rectangular: $a + bi$  \n",
    "Polar: $Me^{i\\theta}$  \n",
    "\n",
    "$i$ is used for current when describing circuits, so the $\\sqrt{-1}$ has other forms such as $j$ in numpy and $I$ in sympy.\n",
    "\n",
    "## Practicing rectangular to polar"
   ]
  },
  {
   "cell_type": "code",
   "execution_count": 1,
   "metadata": {},
   "outputs": [],
   "source": [
    "# now loading in sympy\n",
    "import sympy \n",
    "from sympy import *\n",
    "init_printing() # this enables sympy pretty printing .. isn't it pretty? \n",
    "# you can see LaTeX $$ ...something $$ when Kernel->restart Runall .. do a screen shot before it is executed"
   ]
  },
  {
   "cell_type": "code",
   "execution_count": 2,
   "metadata": {},
   "outputs": [
    {
     "data": {
      "image/png": "[encoded data removed]",
      "text/latex": [
       "$\\displaystyle a + i b$"
      ],
      "text/plain": [
       "a + ⅈ⋅b"
      ]
     },
     "execution_count": 2,
     "metadata": {},
     "output_type": "execute_result"
    }
   ],
   "source": [
    "#now exploring rectangular complex number form\n",
    "a,b,M,theta = symbols('a,b,M,theta', real=True) # these are the symbols that will be used below\n",
    "Zrect = a + b*I # I is sympy for sqrt(-1) .. Zrect will automatically be defined as a complex number\n",
    "Zrect"
   ]
  },
  {
   "cell_type": "code",
   "execution_count": 3,
   "metadata": {},
   "outputs": [
    {
     "data": {
      "image/png": "[encoded data removed]",
      "text/latex": [
       "$$e^{a + i b}$$"
      ],
      "text/plain": [
       " a + ⅈ⋅b\n",
       "ℯ       "
      ]
     },
     "execution_count": 3,
     "metadata": {},
     "output_type": "execute_result"
    }
   ],
   "source": [
    "# computer algebra systems work in rectangular form the goal is to convert to polar form\n",
    "Zpolar = exp_polar(Zrect)\n",
    "Zpolar"
   ]
  },
  {
   "cell_type": "code",
   "execution_count": 3,
   "metadata": {},
   "outputs": [
    {
     "data": {
      "image/png": "[encoded data removed]",
      "text/latex": [
       "$\\displaystyle e^{a} e^{i b}$"
      ],
      "text/plain": [
       " a  ⅈ⋅b\n",
       "ℯ ⋅ℯ   "
      ]
     },
     "execution_count": 3,
     "metadata": {},
     "output_type": "execute_result"
    }
   ],
   "source": [
    "factor(exp_polar(a+b*I))"
   ]
  },
  {
   "cell_type": "code",
   "execution_count": 5,
   "metadata": {},
   "outputs": [
    {
     "data": {
      "image/png": "[encoded data removed]",
      "text/latex": [
       "$$\\sqrt{a^{2} + b^{2}}$$"
      ],
      "text/plain": [
       "   _________\n",
       "  ╱  2    2 \n",
       "╲╱  a  + b  "
      ]
     },
     "execution_count": 5,
     "metadata": {},
     "output_type": "execute_result"
    }
   ],
   "source": [
    "#absolute value is hypotenous of a triangle in the complex plane\n",
    "simplify(Abs(Zrect))"
   ]
  },
  {
   "cell_type": "code",
   "execution_count": 6,
   "metadata": {},
   "outputs": [
    {
     "data": {
      "image/png": "[encoded data removed]",
      "text/latex": [
       "$$5$$"
      ],
      "text/plain": [
       "5"
      ]
     },
     "execution_count": 6,
     "metadata": {},
     "output_type": "execute_result"
    }
   ],
   "source": [
    "#SymPy stays in symbol form so instead of 4.99999999... like matlab and numpy\n",
    "Abs(3+4*I)"
   ]
  },
  {
   "cell_type": "code",
   "execution_count": 5,
   "metadata": {},
   "outputs": [
    {
     "name": "stdout",
     "output_type": "stream",
     "text": [
      "forcing sympy to go numeric: 126.869897645844 degrees\n",
      "internally sympy is still maintaining the symbolic form of the answer: \n"
     ]
    },
    {
     "data": {
      "image/png": "[encoded data removed]",
      "text/latex": [
       "$\\displaystyle \\pi - \\operatorname{atan}{\\left(\\frac{4}{3} \\right)}$"
      ],
      "text/plain": [
       "π - atan(4/3)"
      ]
     },
     "execution_count": 5,
     "metadata": {},
     "output_type": "execute_result"
    }
   ],
   "source": [
    "#sympy will not go to decimal places unless you force it ... let it stay in symbolic form\n",
    "phi= arg(-3 + I*4)\n",
    "print(\"forcing sympy to go numeric:\", N(phi*180/pi),'degrees') \n",
    "print(\"internally sympy is still maintaining the symbolic form of the answer: \")\n",
    "phi"
   ]
  },
  {
   "cell_type": "code",
   "execution_count": 7,
   "metadata": {},
   "outputs": [
    {
     "name": "stdout",
     "output_type": "stream",
     "text": [
      "sympy will symbolic reduce or simplify the answer as much as possible: \n"
     ]
    },
    {
     "data": {
      "image/png": "[encoded data removed]",
      "text/latex": [
       "$\\displaystyle \\frac{\\pi}{4}$"
      ],
      "text/plain": [
       "π\n",
       "─\n",
       "4"
      ]
     },
     "execution_count": 7,
     "metadata": {},
     "output_type": "execute_result"
    }
   ],
   "source": [
    "print(\"sympy will symbolic reduce or simplify the answer as much as possible: \")\n",
    "arg(sqrt(2)+I*sqrt(2))"
   ]
  },
  {
   "cell_type": "code",
   "execution_count": 8,
   "metadata": {},
   "outputs": [
    {
     "name": "stdout",
     "output_type": "stream",
     "text": [
      "sympy will repeat back to you something obvious when it can't simplify: \n"
     ]
    },
    {
     "data": {
      "image/png": "[encoded data removed]",
      "text/latex": [
       "$\\displaystyle \\arg{\\left(a + i b \\right)}$"
      ],
      "text/plain": [
       "arg(a + ⅈ⋅b)"
      ]
     },
     "execution_count": 8,
     "metadata": {},
     "output_type": "execute_result"
    }
   ],
   "source": [
    "print(\"sympy will repeat back to you something obvious when it can't simplify: \")\n",
    "arg(Zrect)"
   ]
  },
  {
   "cell_type": "code",
   "execution_count": 10,
   "metadata": {},
   "outputs": [
    {
     "data": {
      "image/png": "[encoded data removed]",
      "text/latex": [
       "$$\\frac{1}{i C \\omega + \\frac{1}{i L \\omega + R}}$$"
      ],
      "text/plain": [
       "        1        \n",
       "─────────────────\n",
       "            1    \n",
       "ⅈ⋅C⋅ω + ─────────\n",
       "        ⅈ⋅L⋅ω + R"
      ]
     },
     "execution_count": 10,
     "metadata": {},
     "output_type": "execute_result"
    }
   ],
   "source": [
    "#to see this, need more complicated example\n",
    "R,omega,L,C = symbols('R omega L C',real=True)\n",
    "Z = (1/(1/(R+L*I*omega) + C*I*omega))\n",
    "Z"
   ]
  },
  {
   "cell_type": "code",
   "execution_count": 11,
   "metadata": {},
   "outputs": [
    {
     "data": {
      "image/png": "[encoded data removed]",
      "text/latex": [
       "$$\\left ( \\frac{R}{\\left(L^{2} \\omega^{2} + R^{2}\\right) \\left(\\frac{R^{2}}{\\left(L^{2} \\omega^{2} + R^{2}\\right)^{2}} + \\left(C \\omega - \\frac{L \\omega}{L^{2} \\omega^{2} + R^{2}}\\right)^{2}\\right)}, \\quad \\frac{- C \\omega + \\frac{L \\omega}{L^{2} \\omega^{2} + R^{2}}}{\\frac{R^{2}}{\\left(L^{2} \\omega^{2} + R^{2}\\right)^{2}} + \\left(C \\omega - \\frac{L \\omega}{L^{2} \\omega^{2} + R^{2}}\\right)^{2}}\\right )$$"
      ],
      "text/plain": [
       "⎛                                                                       L⋅ω   \n",
       "⎜                                                             -C⋅ω + ─────────\n",
       "⎜                                                                     2  2    \n",
       "⎜                        R                                           L ⋅ω  + R\n",
       "⎜──────────────────────────────────────────────────, ─────────────────────────\n",
       "⎜             ⎛       2                          2⎞         2                 \n",
       "⎜⎛ 2  2    2⎞ ⎜      R         ⎛         L⋅ω    ⎞ ⎟        R         ⎛        \n",
       "⎜⎝L ⋅ω  + R ⎠⋅⎜───────────── + ⎜C⋅ω - ──────────⎟ ⎟  ───────────── + ⎜C⋅ω - ──\n",
       "⎜             ⎜            2   ⎜       2  2    2⎟ ⎟              2   ⎜       2\n",
       "⎜             ⎜⎛ 2  2    2⎞    ⎝      L ⋅ω  + R ⎠ ⎟  ⎛ 2  2    2⎞    ⎝      L \n",
       "⎝             ⎝⎝L ⋅ω  + R ⎠                       ⎠  ⎝L ⋅ω  + R ⎠             \n",
       "\n",
       "          ⎞\n",
       "─         ⎟\n",
       "2         ⎟\n",
       "          ⎟\n",
       "──────────⎟\n",
       "         2⎟\n",
       " L⋅ω    ⎞ ⎟\n",
       "────────⎟ ⎟\n",
       "  2    2⎟ ⎟\n",
       "⋅ω  + R ⎠ ⎟\n",
       "          ⎠"
      ]
     },
     "execution_count": 11,
     "metadata": {},
     "output_type": "execute_result"
    }
   ],
   "source": [
    "# to separate real and imaginary parts symbolically\n",
    "Z.as_real_imag() "
   ]
  },
  {
   "cell_type": "markdown",
   "metadata": {},
   "source": [
    "Now left side is reality and the right side is imaginary. If your goal is a real world answer, you can discard everything after the comma.\n",
    "\n",
    "To simplify the right side, try this hack which starts with the conjugate of the conjuate (back to the same thing)"
   ]
  },
  {
   "cell_type": "code",
   "execution_count": 26,
   "metadata": {},
   "outputs": [
    {
     "data": {
      "image/png": "[encoded data removed]",
      "text/latex": [
       "$$\\frac{R}{C^{2} L^{2} \\omega^{4} + C^{2} R^{2} \\omega^{2} - 2 C L \\omega^{2} + 1}$$"
      ],
      "text/plain": [
       "                R                 \n",
       "──────────────────────────────────\n",
       " 2  2  4    2  2  2          2    \n",
       "C ⋅L ⋅ω  + C ⋅R ⋅ω  - 2⋅C⋅L⋅ω  + 1"
      ]
     },
     "execution_count": 26,
     "metadata": {},
     "output_type": "execute_result"
    }
   ],
   "source": [
    "ZR =((Z.conjugate().conjugate()+Z.conjugate())/2).simplify()\n",
    "ZR"
   ]
  },
  {
   "cell_type": "markdown",
   "metadata": {},
   "source": [
    "This is the angle of the discarded part:"
   ]
  },
  {
   "cell_type": "code",
   "execution_count": 28,
   "metadata": {},
   "outputs": [
    {
     "data": {
      "image/png": "[encoded data removed]",
      "text/latex": [
       "$$\\arg{\\left (- \\frac{R}{C^{2} L^{2} \\omega^{4} + C^{2} R^{2} \\omega^{2} - 2 C L \\omega^{2} + 1} + \\frac{1}{i C \\omega + \\frac{1}{i L \\omega + R}} \\right )}$$"
      ],
      "text/plain": [
       "   ⎛                  R                            1        ⎞\n",
       "arg⎜- ────────────────────────────────── + ─────────────────⎟\n",
       "   ⎜   2  2  4    2  2  2          2                   1    ⎟\n",
       "   ⎜  C ⋅L ⋅ω  + C ⋅R ⋅ω  - 2⋅C⋅L⋅ω  + 1   ⅈ⋅C⋅ω + ─────────⎟\n",
       "   ⎝                                               ⅈ⋅L⋅ω + R⎠"
      ]
     },
     "execution_count": 28,
     "metadata": {},
     "output_type": "execute_result"
    }
   ],
   "source": [
    "arg(Z-ZR)"
   ]
  },
  {
   "cell_type": "markdown",
   "metadata": {},
   "source": [
    "Going back to the original Z, you can compare with the original Z. "
   ]
  },
  {
   "cell_type": "code",
   "execution_count": 13,
   "metadata": {},
   "outputs": [
    {
     "data": {
      "image/png": "[encoded data removed]",
      "text/latex": [
       "$$\\arg{\\left (\\frac{1}{i C \\omega + \\frac{1}{i L \\omega + R}} \\right )}$$"
      ],
      "text/plain": [
       "   ⎛        1        ⎞\n",
       "arg⎜─────────────────⎟\n",
       "   ⎜            1    ⎟\n",
       "   ⎜ⅈ⋅C⋅ω + ─────────⎟\n",
       "   ⎝        ⅈ⋅L⋅ω + R⎠"
      ]
     },
     "execution_count": 13,
     "metadata": {},
     "output_type": "execute_result"
    }
   ],
   "source": [
    "arg(Z)"
   ]
  },
  {
   "cell_type": "code",
   "execution_count": 14,
   "metadata": {},
   "outputs": [
    {
     "data": {
      "image/png": "[encoded data removed]",
      "text/latex": [
       "$$\\sqrt{\\frac{1}{C^{2} \\omega^{2} - \\frac{i C \\omega}{i L \\omega + R} + \\frac{i C \\omega}{- i L \\omega + R} + \\frac{1}{L^{2} \\omega^{2} + R^{2}}}}$$"
      ],
      "text/plain": [
       "       _____________________________________________\n",
       "      ╱                      1                      \n",
       "     ╱  ─────────────────────────────────────────── \n",
       "    ╱    2  2     ⅈ⋅C⋅ω       ⅈ⋅C⋅ω          1      \n",
       "   ╱    C ⋅ω  - ───────── + ────────── + ────────── \n",
       "  ╱             ⅈ⋅L⋅ω + R   -ⅈ⋅L⋅ω + R    2  2    2 \n",
       "╲╱                                       L ⋅ω  + R  "
      ]
     },
     "execution_count": 14,
     "metadata": {},
     "output_type": "execute_result"
    }
   ],
   "source": [
    "Abs(Z)"
   ]
  },
  {
   "cell_type": "markdown",
   "metadata": {},
   "source": [
    "do you want to learn sympy or try to do this algebra/trig simplification by hand?\n",
    "\n",
    "## Polar to Rectangular\n",
    "Normally you work in rectangular and convert to polar at the end.\n",
    "But sometimes phasors are specified in the complex domain and need to be brought back into the rectangular calculation world.\n",
    "\n",
    "Polar is easier to do math in than rectangular:"
   ]
  },
  {
   "cell_type": "code",
   "execution_count": 15,
   "metadata": {},
   "outputs": [
    {
     "data": {
      "image/png": "[encoded data removed]",
      "text/latex": [
       "$$M e^{i \\theta}$$"
      ],
      "text/plain": [
       "   ⅈ⋅θ\n",
       "M⋅ℯ   "
      ]
     },
     "execution_count": 15,
     "metadata": {},
     "output_type": "execute_result"
    }
   ],
   "source": [
    "Zpolar=M*exp(theta*I)\n",
    "Zpolar"
   ]
  },
  {
   "cell_type": "markdown",
   "metadata": {},
   "source": [
    "This is very different that this expression:"
   ]
  },
  {
   "cell_type": "code",
   "execution_count": 17,
   "metadata": {},
   "outputs": [
    {
     "data": {
      "image/png": "[encoded data removed]",
      "text/latex": [
       "$$e^{M + i \\theta}$$"
      ],
      "text/plain": [
       " M + ⅈ⋅θ\n",
       "ℯ       "
      ]
     },
     "execution_count": 17,
     "metadata": {},
     "output_type": "execute_result"
    }
   ],
   "source": [
    "exp(M+I*theta)"
   ]
  },
  {
   "cell_type": "markdown",
   "metadata": {},
   "source": [
    "$M \\neq e^M$\n",
    "\n",
    "\n"
   ]
  },
  {
   "cell_type": "code",
   "execution_count": 16,
   "metadata": {},
   "outputs": [
    {
     "data": {
      "image/png": "[encoded data removed]",
      "text/latex": [
       "$$M \\left ( \\cos{\\left (\\theta \\right )}, \\quad \\sin{\\left (\\theta \\right )}\\right )$$"
      ],
      "text/plain": [
       "M⋅(cos(θ), sin(θ))"
      ]
     },
     "execution_count": 16,
     "metadata": {},
     "output_type": "execute_result"
    }
   ],
   "source": [
    "M*exp(theta*I).as_real_imag() "
   ]
  },
  {
   "cell_type": "markdown",
   "metadata": {},
   "source": [
    "the above means $Mcos(\\theta),Msin(\\theta)$  "
   ]
  },
  {
   "cell_type": "code",
   "execution_count": 11,
   "metadata": {},
   "outputs": [
    {
     "data": {
      "image/png": "[encoded data removed]",
      "text/latex": [
       "$\\displaystyle \\left( e^{M} \\cos{\\left(\\theta \\right)}, \\  e^{M} \\sin{\\left(\\theta \\right)}\\right)$"
      ],
      "text/plain": [
       "⎛ M          M       ⎞\n",
       "⎝ℯ ⋅cos(θ), ℯ ⋅sin(θ)⎠"
      ]
     },
     "execution_count": 11,
     "metadata": {},
     "output_type": "execute_result"
    }
   ],
   "source": [
    "exp(M+I*theta).as_real_imag() "
   ]
  },
  {
   "cell_type": "code",
   "execution_count": 19,
   "metadata": {},
   "outputs": [
    {
     "data": {
      "image/png": "[encoded data removed]",
      "text/latex": [
       "$$\\frac{1}{i C \\omega + \\frac{1}{i L \\omega + R}}$$"
      ],
      "text/plain": [
       "        1        \n",
       "─────────────────\n",
       "            1    \n",
       "ⅈ⋅C⋅ω + ─────────\n",
       "        ⅈ⋅L⋅ω + R"
      ]
     },
     "execution_count": 19,
     "metadata": {},
     "output_type": "execute_result"
    }
   ],
   "source": [
    "theta = 1/(I*C*omega+1/(I*omega*L+R))\n",
    "theta"
   ]
  },
  {
   "cell_type": "code",
   "execution_count": 20,
   "metadata": {},
   "outputs": [
    {
     "data": {
      "image/png": "[encoded data removed]",
      "text/latex": [
       "$$\\sqrt{\\frac{1}{C^{2} \\omega^{2} - \\frac{i C \\omega}{i L \\omega + R} + \\frac{i C \\omega}{- i L \\omega + R} + \\frac{1}{L^{2} \\omega^{2} + R^{2}}}}$$"
      ],
      "text/plain": [
       "       _____________________________________________\n",
       "      ╱                      1                      \n",
       "     ╱  ─────────────────────────────────────────── \n",
       "    ╱    2  2     ⅈ⋅C⋅ω       ⅈ⋅C⋅ω          1      \n",
       "   ╱    C ⋅ω  - ───────── + ────────── + ────────── \n",
       "  ╱             ⅈ⋅L⋅ω + R   -ⅈ⋅L⋅ω + R    2  2    2 \n",
       "╲╱                                       L ⋅ω  + R  "
      ]
     },
     "execution_count": 20,
     "metadata": {},
     "output_type": "execute_result"
    }
   ],
   "source": [
    "M = sqrt(1/(C**2*omega**2-I*C*omega/(I*omega*L+R) + I*C*omega/(-I*L*omega+R) +1/(L**2*omega**2+R**2)))\n",
    "M"
   ]
  },
  {
   "cell_type": "code",
   "execution_count": 21,
   "metadata": {},
   "outputs": [
    {
     "data": {
      "image/png": "[encoded data removed]",
      "text/latex": [
       "$$\\sqrt{\\frac{1}{C^{2} \\omega^{2} - \\frac{i C \\omega}{i L \\omega + R} + \\frac{i C \\omega}{- i L \\omega + R} + \\frac{1}{L^{2} \\omega^{2} + R^{2}}}} e^{\\frac{i}{i C \\omega + \\frac{1}{i L \\omega + R}}}$$"
      ],
      "text/plain": [
       "                                                              ⅈ        \n",
       "                                                      ─────────────────\n",
       "                                                                  1    \n",
       "       _____________________________________________  ⅈ⋅C⋅ω + ─────────\n",
       "      ╱                      1                                ⅈ⋅L⋅ω + R\n",
       "     ╱  ─────────────────────────────────────────── ⋅ℯ                 \n",
       "    ╱    2  2     ⅈ⋅C⋅ω       ⅈ⋅C⋅ω          1                         \n",
       "   ╱    C ⋅ω  - ───────── + ────────── + ──────────                    \n",
       "  ╱             ⅈ⋅L⋅ω + R   -ⅈ⋅L⋅ω + R    2  2    2                    \n",
       "╲╱                                       L ⋅ω  + R                     "
      ]
     },
     "execution_count": 21,
     "metadata": {},
     "output_type": "execute_result"
    }
   ],
   "source": [
    "Zpolar=M*exp(theta*I)\n",
    "Zpolar"
   ]
  },
  {
   "cell_type": "code",
   "execution_count": 22,
   "metadata": {},
   "outputs": [
    {
     "data": {
      "image/png": "[encoded data removed]",
      "text/latex": [
       "$$\\left ( \\Re{\\left(\\sqrt{\\frac{1}{C^{2} \\omega^{2} - \\frac{i C \\omega}{i L \\omega + R} + \\frac{i C \\omega}{- i L \\omega + R} + \\frac{1}{L^{2} \\omega^{2} + R^{2}}}} e^{\\frac{i}{i C \\omega + \\frac{1}{i L \\omega + R}}}\\right)}, \\quad \\Im{\\left(\\sqrt{\\frac{1}{C^{2} \\omega^{2} - \\frac{i C \\omega}{i L \\omega + R} + \\frac{i C \\omega}{- i L \\omega + R} + \\frac{1}{L^{2} \\omega^{2} + R^{2}}}} e^{\\frac{i}{i C \\omega + \\frac{1}{i L \\omega + R}}}\\right)}\\right )$$"
      ],
      "text/plain": [
       "⎛  ⎛                                                              ⅈ        ⎞  \n",
       "⎜  ⎜                                                      ─────────────────⎟  \n",
       "⎜  ⎜                                                                  1    ⎟  \n",
       "⎜  ⎜       _____________________________________________  ⅈ⋅C⋅ω + ─────────⎟  \n",
       "⎜  ⎜      ╱                      1                                ⅈ⋅L⋅ω + R⎟  \n",
       "⎜re⎜     ╱  ─────────────────────────────────────────── ⋅ℯ                 ⎟, \n",
       "⎜  ⎜    ╱    2  2     ⅈ⋅C⋅ω       ⅈ⋅C⋅ω          1                         ⎟  \n",
       "⎜  ⎜   ╱    C ⋅ω  - ───────── + ────────── + ──────────                    ⎟  \n",
       "⎜  ⎜  ╱             ⅈ⋅L⋅ω + R   -ⅈ⋅L⋅ω + R    2  2    2                    ⎟  \n",
       "⎝  ⎝╲╱                                       L ⋅ω  + R                     ⎠  \n",
       "\n",
       "  ⎛                                                              ⅈ        ⎞⎞\n",
       "  ⎜                                                      ─────────────────⎟⎟\n",
       "  ⎜                                                                  1    ⎟⎟\n",
       "  ⎜       _____________________________________________  ⅈ⋅C⋅ω + ─────────⎟⎟\n",
       "  ⎜      ╱                      1                                ⅈ⋅L⋅ω + R⎟⎟\n",
       "im⎜     ╱  ─────────────────────────────────────────── ⋅ℯ                 ⎟⎟\n",
       "  ⎜    ╱    2  2     ⅈ⋅C⋅ω       ⅈ⋅C⋅ω          1                         ⎟⎟\n",
       "  ⎜   ╱    C ⋅ω  - ───────── + ────────── + ──────────                    ⎟⎟\n",
       "  ⎜  ╱             ⅈ⋅L⋅ω + R   -ⅈ⋅L⋅ω + R    2  2    2                    ⎟⎟\n",
       "  ⎝╲╱                                       L ⋅ω  + R                     ⎠⎠"
      ]
     },
     "execution_count": 22,
     "metadata": {},
     "output_type": "execute_result"
    }
   ],
   "source": [
    "Zpolar.as_real_imag()"
   ]
  },
  {
   "cell_type": "markdown",
   "metadata": {},
   "source": [
    "SymPy has its limits like any symbolic algebra system. It tells you this by repeating the input, rather than giving you an error message.\n",
    "\n",
    "Don't give up, read the [SymPy Manual](https://docs.sympy.org/latest/index.html). We are going to reach the limit of SymPy in this course. SymPy is like Mathmetica and it's commercial competition in terms of it's user interface. The open source world thinks of Sympy as an educational tool, and is not complete. The open source world puts it's time and energy into [Sage](https://www.sagemath.org/). "
   ]
  },
  {
   "cell_type": "code",
   "execution_count": null,
   "metadata": {
    "collapsed": true
   },
   "outputs": [],
   "source": []
  }
 ],
 "metadata": {
  "kernelspec": {
   "display_name": "Python 3",
   "language": "python",
   "name": "python3"
  },
  "language_info": {
   "codemirror_mode": {
    "name": "ipython",
    "version": 3
   },
   "file_extension": ".py",
   "mimetype": "text/x-python",
   "name": "python",
   "nbconvert_exporter": "python",
   "pygments_lexer": "ipython3",
   "version": "3.7.3"
  }
 },
 "nbformat": 4,
 "nbformat_minor": 2
}
